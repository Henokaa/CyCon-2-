{
  "nbformat": 4,
  "nbformat_minor": 0,
  "metadata": {
    "colab": {
      "provenance": []
    },
    "kernelspec": {
      "name": "python3",
      "display_name": "Python 3"
    },
    "language_info": {
      "name": "python"
    }
  },
  "cells": [
    {
      "cell_type": "markdown",
      "source": [
        "<center> <a href=\"https://github.com/CyConProject?tab=repositories\">\n",
        "  <img src=\"https://github.com/CyConProject/Lab/blob/main/Figures/CyCon.png?raw=true\" alt=\"logo\" width=\"80\" >\n",
        "</a>\n",
        " </center>\n",
        "\n",
        "\n",
        "\n",
        "# Simple Linear Regression\n",
        "\n",
        " In this notebook, we will explore the concept of simple linear regression and its application in construction. Linear regression is a statistical technique that allows us to understand the relationship between a dependent variable and one independent variable. We will learn how to build a linear regression model, interpret the results, and make predictions. This knowledge will enable the construction workforce to analyze and predict various construction-related factors, such as the compressive strength of concrete, based on historical data.\n",
        "\n",
        "### Objectives:\n",
        "\n",
        "\n",
        "After completing this lab, you will have achieved the following:\n",
        "\n",
        "-  Implement simple Linear Regression using scikit-learn.\n",
        "-  Create a regression model.\n",
        "-  Train the regression model on a dataset.\n",
        "-  Test the regression model using the test dataset.\n",
        "-  Utilize the trained model for making predictions.\n",
        "\n",
        "By mastering these concepts and techniques, you will gain valuable skills in implementing and utilizing Linear Regression models for predictive analysis."
      ],
      "metadata": {
        "id": "dCQ7F5chojK-"
      }
    },
    {
      "cell_type": "markdown",
      "source": [
        "### Step 1: Import necessary libraries"
      ],
      "metadata": {
        "id": "DI4b7TbP0uq5"
      }
    },
    {
      "cell_type": "code",
      "source": [
        "import pandas as pd\n",
        "import numpy as np\n",
        "import matplotlib.pyplot as plt"
      ],
      "metadata": {
        "id": "zFt0Na_Aq1MT"
      },
      "execution_count": null,
      "outputs": []
    },
    {
      "cell_type": "markdown",
      "source": [
        "### Step 2: Load the construction dataset"
      ],
      "metadata": {
        "id": "rM0vFNhjFSUt"
      }
    },
    {
      "cell_type": "code",
      "source": [
        "# Load the dataset\n",
        "url = 'https://raw.githubusercontent.com/CyConProject/Lab/main/Datasets/Concrete_Data.csv'\n",
        "df = pd.read_csv(url)"
      ],
      "metadata": {
        "id": "UgZ1eKe8FS1P"
      },
      "execution_count": null,
      "outputs": []
    },
    {
      "cell_type": "markdown",
      "source": [
        "### Step 3: Explore the dataset"
      ],
      "metadata": {
        "id": "ZwMXBT8UQO83"
      }
    },
    {
      "cell_type": "code",
      "source": [
        "# Display the first few rows of the dataset\n",
        "df.head()"
      ],
      "metadata": {
        "colab": {
          "base_uri": "https://localhost:8080/",
          "height": 206
        },
        "id": "9uTfyypwSGTB",
        "outputId": "224511d4-1995-455e-a651-5dd47e2b1504"
      },
      "execution_count": null,
      "outputs": [
        {
          "output_type": "execute_result",
          "data": {
            "text/plain": [
              "   cement   slag  flyash  water  superplasticizer  coarseaggregate  \\\n",
              "0   540.0    0.0     0.0  162.0               2.5           1040.0   \n",
              "1   540.0    0.0     0.0  162.0               2.5           1055.0   \n",
              "2   332.5  142.5     0.0  228.0               0.0            932.0   \n",
              "3   332.5  142.5     0.0  228.0               0.0            932.0   \n",
              "4   198.6  132.4     0.0  192.0               0.0            978.4   \n",
              "\n",
              "   fineaggregate  age  csMPa  \n",
              "0          676.0   28  79.99  \n",
              "1          676.0   28  61.89  \n",
              "2          594.0  270  40.27  \n",
              "3          594.0  365  41.05  \n",
              "4          825.5  360  44.30  "
            ],
            "text/html": [
              "\n",
              "  <div id=\"df-7f602ac4-913e-4e7f-86aa-403added6532\">\n",
              "    <div class=\"colab-df-container\">\n",
              "      <div>\n",
              "<style scoped>\n",
              "    .dataframe tbody tr th:only-of-type {\n",
              "        vertical-align: middle;\n",
              "    }\n",
              "\n",
              "    .dataframe tbody tr th {\n",
              "        vertical-align: top;\n",
              "    }\n",
              "\n",
              "    .dataframe thead th {\n",
              "        text-align: right;\n",
              "    }\n",
              "</style>\n",
              "<table border=\"1\" class=\"dataframe\">\n",
              "  <thead>\n",
              "    <tr style=\"text-align: right;\">\n",
              "      <th></th>\n",
              "      <th>cement</th>\n",
              "      <th>slag</th>\n",
              "      <th>flyash</th>\n",
              "      <th>water</th>\n",
              "      <th>superplasticizer</th>\n",
              "      <th>coarseaggregate</th>\n",
              "      <th>fineaggregate</th>\n",
              "      <th>age</th>\n",
              "      <th>csMPa</th>\n",
              "    </tr>\n",
              "  </thead>\n",
              "  <tbody>\n",
              "    <tr>\n",
              "      <th>0</th>\n",
              "      <td>540.0</td>\n",
              "      <td>0.0</td>\n",
              "      <td>0.0</td>\n",
              "      <td>162.0</td>\n",
              "      <td>2.5</td>\n",
              "      <td>1040.0</td>\n",
              "      <td>676.0</td>\n",
              "      <td>28</td>\n",
              "      <td>79.99</td>\n",
              "    </tr>\n",
              "    <tr>\n",
              "      <th>1</th>\n",
              "      <td>540.0</td>\n",
              "      <td>0.0</td>\n",
              "      <td>0.0</td>\n",
              "      <td>162.0</td>\n",
              "      <td>2.5</td>\n",
              "      <td>1055.0</td>\n",
              "      <td>676.0</td>\n",
              "      <td>28</td>\n",
              "      <td>61.89</td>\n",
              "    </tr>\n",
              "    <tr>\n",
              "      <th>2</th>\n",
              "      <td>332.5</td>\n",
              "      <td>142.5</td>\n",
              "      <td>0.0</td>\n",
              "      <td>228.0</td>\n",
              "      <td>0.0</td>\n",
              "      <td>932.0</td>\n",
              "      <td>594.0</td>\n",
              "      <td>270</td>\n",
              "      <td>40.27</td>\n",
              "    </tr>\n",
              "    <tr>\n",
              "      <th>3</th>\n",
              "      <td>332.5</td>\n",
              "      <td>142.5</td>\n",
              "      <td>0.0</td>\n",
              "      <td>228.0</td>\n",
              "      <td>0.0</td>\n",
              "      <td>932.0</td>\n",
              "      <td>594.0</td>\n",
              "      <td>365</td>\n",
              "      <td>41.05</td>\n",
              "    </tr>\n",
              "    <tr>\n",
              "      <th>4</th>\n",
              "      <td>198.6</td>\n",
              "      <td>132.4</td>\n",
              "      <td>0.0</td>\n",
              "      <td>192.0</td>\n",
              "      <td>0.0</td>\n",
              "      <td>978.4</td>\n",
              "      <td>825.5</td>\n",
              "      <td>360</td>\n",
              "      <td>44.30</td>\n",
              "    </tr>\n",
              "  </tbody>\n",
              "</table>\n",
              "</div>\n",
              "      <button class=\"colab-df-convert\" onclick=\"convertToInteractive('df-7f602ac4-913e-4e7f-86aa-403added6532')\"\n",
              "              title=\"Convert this dataframe to an interactive table.\"\n",
              "              style=\"display:none;\">\n",
              "        \n",
              "  <svg xmlns=\"http://www.w3.org/2000/svg\" height=\"24px\"viewBox=\"0 0 24 24\"\n",
              "       width=\"24px\">\n",
              "    <path d=\"M0 0h24v24H0V0z\" fill=\"none\"/>\n",
              "    <path d=\"M18.56 5.44l.94 2.06.94-2.06 2.06-.94-2.06-.94-.94-2.06-.94 2.06-2.06.94zm-11 1L8.5 8.5l.94-2.06 2.06-.94-2.06-.94L8.5 2.5l-.94 2.06-2.06.94zm10 10l.94 2.06.94-2.06 2.06-.94-2.06-.94-.94-2.06-.94 2.06-2.06.94z\"/><path d=\"M17.41 7.96l-1.37-1.37c-.4-.4-.92-.59-1.43-.59-.52 0-1.04.2-1.43.59L10.3 9.45l-7.72 7.72c-.78.78-.78 2.05 0 2.83L4 21.41c.39.39.9.59 1.41.59.51 0 1.02-.2 1.41-.59l7.78-7.78 2.81-2.81c.8-.78.8-2.07 0-2.86zM5.41 20L4 18.59l7.72-7.72 1.47 1.35L5.41 20z\"/>\n",
              "  </svg>\n",
              "      </button>\n",
              "      \n",
              "  <style>\n",
              "    .colab-df-container {\n",
              "      display:flex;\n",
              "      flex-wrap:wrap;\n",
              "      gap: 12px;\n",
              "    }\n",
              "\n",
              "    .colab-df-convert {\n",
              "      background-color: #E8F0FE;\n",
              "      border: none;\n",
              "      border-radius: 50%;\n",
              "      cursor: pointer;\n",
              "      display: none;\n",
              "      fill: #1967D2;\n",
              "      height: 32px;\n",
              "      padding: 0 0 0 0;\n",
              "      width: 32px;\n",
              "    }\n",
              "\n",
              "    .colab-df-convert:hover {\n",
              "      background-color: #E2EBFA;\n",
              "      box-shadow: 0px 1px 2px rgba(60, 64, 67, 0.3), 0px 1px 3px 1px rgba(60, 64, 67, 0.15);\n",
              "      fill: #174EA6;\n",
              "    }\n",
              "\n",
              "    [theme=dark] .colab-df-convert {\n",
              "      background-color: #3B4455;\n",
              "      fill: #D2E3FC;\n",
              "    }\n",
              "\n",
              "    [theme=dark] .colab-df-convert:hover {\n",
              "      background-color: #434B5C;\n",
              "      box-shadow: 0px 1px 3px 1px rgba(0, 0, 0, 0.15);\n",
              "      filter: drop-shadow(0px 1px 2px rgba(0, 0, 0, 0.3));\n",
              "      fill: #FFFFFF;\n",
              "    }\n",
              "  </style>\n",
              "\n",
              "      <script>\n",
              "        const buttonEl =\n",
              "          document.querySelector('#df-7f602ac4-913e-4e7f-86aa-403added6532 button.colab-df-convert');\n",
              "        buttonEl.style.display =\n",
              "          google.colab.kernel.accessAllowed ? 'block' : 'none';\n",
              "\n",
              "        async function convertToInteractive(key) {\n",
              "          const element = document.querySelector('#df-7f602ac4-913e-4e7f-86aa-403added6532');\n",
              "          const dataTable =\n",
              "            await google.colab.kernel.invokeFunction('convertToInteractive',\n",
              "                                                     [key], {});\n",
              "          if (!dataTable) return;\n",
              "\n",
              "          const docLinkHtml = 'Like what you see? Visit the ' +\n",
              "            '<a target=\"_blank\" href=https://colab.research.google.com/notebooks/data_table.ipynb>data table notebook</a>'\n",
              "            + ' to learn more about interactive tables.';\n",
              "          element.innerHTML = '';\n",
              "          dataTable['output_type'] = 'display_data';\n",
              "          await google.colab.output.renderOutput(dataTable, element);\n",
              "          const docLink = document.createElement('div');\n",
              "          docLink.innerHTML = docLinkHtml;\n",
              "          element.appendChild(docLink);\n",
              "        }\n",
              "      </script>\n",
              "    </div>\n",
              "  </div>\n",
              "  "
            ]
          },
          "metadata": {},
          "execution_count": 3
        }
      ]
    },
    {
      "cell_type": "markdown",
      "source": [
        "#### `Concrete_Data.csv`:\n",
        "\n",
        "The regression problem focuses on predicting the concrete compressive strength using its components as well as its age. The variables are listed in the same order as the numerical values in the database rows.\n",
        "\n",
        "    Name -- Data Type -- Measurement -- Description\n",
        "1.   **Cement** -- quantitative -- kg in a m3 mixture -- Input Variable\n",
        "2.   **Blast Furnace Slag** -- quantitative -- kg in a m3 mixture -- Input Variable\n",
        "3.   **Fly Ash** -- quantitative -- kg in a m3 mixture -- Input Variable\n",
        "4.   **Water** -- quantitative -- kg in a m3 mixture -- Input Variable\n",
        "5.   **Superplasticizer** -- quantitative -- kg in a m3 mixture -- Input Variable\n",
        "6.   **Coarse Aggregate** -- quantitative -- kg in a m3 mixture -- Input Variable\n",
        "7.   **Fine Aggregate** -- quantitative -- kg in a m3 mixture -- Input Variable\n",
        "8.   **Age** -- quantitative -- Day (1~365) -- Input Variable\n",
        "9.   **Concrete compressive strength** -- quantitative -- MPa -- Output Variable\n",
        "\n",
        "\n",
        "[`Data source`](https://archive.ics.uci.edu/dataset/165/concrete+compressive+strength)"
      ],
      "metadata": {
        "id": "idQomEgWRK-A"
      }
    },
    {
      "cell_type": "markdown",
      "source": [
        "### Step 4: Data analysis\n",
        "Let's begin by performing a descriptive exploration of our data."
      ],
      "metadata": {
        "id": "iAi7_2oxVutH"
      }
    },
    {
      "cell_type": "code",
      "source": [
        "# Generates a statistical summary of the DataFrame.\n",
        "df.describe().T"
      ],
      "metadata": {
        "colab": {
          "base_uri": "https://localhost:8080/",
          "height": 331
        },
        "id": "7lNMzuscSxyi",
        "outputId": "f284a5bb-d304-47b9-ce1b-77aa6c905687"
      },
      "execution_count": null,
      "outputs": [
        {
          "output_type": "execute_result",
          "data": {
            "text/plain": [
              "                   count        mean         std     min      25%      50%  \\\n",
              "cement            1030.0  281.167864  104.506364  102.00  192.375  272.900   \n",
              "slag              1030.0   73.895825   86.279342    0.00    0.000   22.000   \n",
              "flyash            1030.0   54.188350   63.997004    0.00    0.000    0.000   \n",
              "water             1030.0  181.567282   21.354219  121.80  164.900  185.000   \n",
              "superplasticizer  1030.0    6.204660    5.973841    0.00    0.000    6.400   \n",
              "coarseaggregate   1030.0  972.918932   77.753954  801.00  932.000  968.000   \n",
              "fineaggregate     1030.0  773.580485   80.175980  594.00  730.950  779.500   \n",
              "age               1030.0   45.662136   63.169912    1.00    7.000   28.000   \n",
              "csMPa             1030.0   35.817961   16.705742    2.33   23.710   34.445   \n",
              "\n",
              "                       75%     max  \n",
              "cement             350.000   540.0  \n",
              "slag               142.950   359.4  \n",
              "flyash             118.300   200.1  \n",
              "water              192.000   247.0  \n",
              "superplasticizer    10.200    32.2  \n",
              "coarseaggregate   1029.400  1145.0  \n",
              "fineaggregate      824.000   992.6  \n",
              "age                 56.000   365.0  \n",
              "csMPa               46.135    82.6  "
            ],
            "text/html": [
              "\n",
              "  <div id=\"df-4ba3ce7b-a4f8-4b81-ba8c-b9da64412869\">\n",
              "    <div class=\"colab-df-container\">\n",
              "      <div>\n",
              "<style scoped>\n",
              "    .dataframe tbody tr th:only-of-type {\n",
              "        vertical-align: middle;\n",
              "    }\n",
              "\n",
              "    .dataframe tbody tr th {\n",
              "        vertical-align: top;\n",
              "    }\n",
              "\n",
              "    .dataframe thead th {\n",
              "        text-align: right;\n",
              "    }\n",
              "</style>\n",
              "<table border=\"1\" class=\"dataframe\">\n",
              "  <thead>\n",
              "    <tr style=\"text-align: right;\">\n",
              "      <th></th>\n",
              "      <th>count</th>\n",
              "      <th>mean</th>\n",
              "      <th>std</th>\n",
              "      <th>min</th>\n",
              "      <th>25%</th>\n",
              "      <th>50%</th>\n",
              "      <th>75%</th>\n",
              "      <th>max</th>\n",
              "    </tr>\n",
              "  </thead>\n",
              "  <tbody>\n",
              "    <tr>\n",
              "      <th>cement</th>\n",
              "      <td>1030.0</td>\n",
              "      <td>281.167864</td>\n",
              "      <td>104.506364</td>\n",
              "      <td>102.00</td>\n",
              "      <td>192.375</td>\n",
              "      <td>272.900</td>\n",
              "      <td>350.000</td>\n",
              "      <td>540.0</td>\n",
              "    </tr>\n",
              "    <tr>\n",
              "      <th>slag</th>\n",
              "      <td>1030.0</td>\n",
              "      <td>73.895825</td>\n",
              "      <td>86.279342</td>\n",
              "      <td>0.00</td>\n",
              "      <td>0.000</td>\n",
              "      <td>22.000</td>\n",
              "      <td>142.950</td>\n",
              "      <td>359.4</td>\n",
              "    </tr>\n",
              "    <tr>\n",
              "      <th>flyash</th>\n",
              "      <td>1030.0</td>\n",
              "      <td>54.188350</td>\n",
              "      <td>63.997004</td>\n",
              "      <td>0.00</td>\n",
              "      <td>0.000</td>\n",
              "      <td>0.000</td>\n",
              "      <td>118.300</td>\n",
              "      <td>200.1</td>\n",
              "    </tr>\n",
              "    <tr>\n",
              "      <th>water</th>\n",
              "      <td>1030.0</td>\n",
              "      <td>181.567282</td>\n",
              "      <td>21.354219</td>\n",
              "      <td>121.80</td>\n",
              "      <td>164.900</td>\n",
              "      <td>185.000</td>\n",
              "      <td>192.000</td>\n",
              "      <td>247.0</td>\n",
              "    </tr>\n",
              "    <tr>\n",
              "      <th>superplasticizer</th>\n",
              "      <td>1030.0</td>\n",
              "      <td>6.204660</td>\n",
              "      <td>5.973841</td>\n",
              "      <td>0.00</td>\n",
              "      <td>0.000</td>\n",
              "      <td>6.400</td>\n",
              "      <td>10.200</td>\n",
              "      <td>32.2</td>\n",
              "    </tr>\n",
              "    <tr>\n",
              "      <th>coarseaggregate</th>\n",
              "      <td>1030.0</td>\n",
              "      <td>972.918932</td>\n",
              "      <td>77.753954</td>\n",
              "      <td>801.00</td>\n",
              "      <td>932.000</td>\n",
              "      <td>968.000</td>\n",
              "      <td>1029.400</td>\n",
              "      <td>1145.0</td>\n",
              "    </tr>\n",
              "    <tr>\n",
              "      <th>fineaggregate</th>\n",
              "      <td>1030.0</td>\n",
              "      <td>773.580485</td>\n",
              "      <td>80.175980</td>\n",
              "      <td>594.00</td>\n",
              "      <td>730.950</td>\n",
              "      <td>779.500</td>\n",
              "      <td>824.000</td>\n",
              "      <td>992.6</td>\n",
              "    </tr>\n",
              "    <tr>\n",
              "      <th>age</th>\n",
              "      <td>1030.0</td>\n",
              "      <td>45.662136</td>\n",
              "      <td>63.169912</td>\n",
              "      <td>1.00</td>\n",
              "      <td>7.000</td>\n",
              "      <td>28.000</td>\n",
              "      <td>56.000</td>\n",
              "      <td>365.0</td>\n",
              "    </tr>\n",
              "    <tr>\n",
              "      <th>csMPa</th>\n",
              "      <td>1030.0</td>\n",
              "      <td>35.817961</td>\n",
              "      <td>16.705742</td>\n",
              "      <td>2.33</td>\n",
              "      <td>23.710</td>\n",
              "      <td>34.445</td>\n",
              "      <td>46.135</td>\n",
              "      <td>82.6</td>\n",
              "    </tr>\n",
              "  </tbody>\n",
              "</table>\n",
              "</div>\n",
              "      <button class=\"colab-df-convert\" onclick=\"convertToInteractive('df-4ba3ce7b-a4f8-4b81-ba8c-b9da64412869')\"\n",
              "              title=\"Convert this dataframe to an interactive table.\"\n",
              "              style=\"display:none;\">\n",
              "        \n",
              "  <svg xmlns=\"http://www.w3.org/2000/svg\" height=\"24px\"viewBox=\"0 0 24 24\"\n",
              "       width=\"24px\">\n",
              "    <path d=\"M0 0h24v24H0V0z\" fill=\"none\"/>\n",
              "    <path d=\"M18.56 5.44l.94 2.06.94-2.06 2.06-.94-2.06-.94-.94-2.06-.94 2.06-2.06.94zm-11 1L8.5 8.5l.94-2.06 2.06-.94-2.06-.94L8.5 2.5l-.94 2.06-2.06.94zm10 10l.94 2.06.94-2.06 2.06-.94-2.06-.94-.94-2.06-.94 2.06-2.06.94z\"/><path d=\"M17.41 7.96l-1.37-1.37c-.4-.4-.92-.59-1.43-.59-.52 0-1.04.2-1.43.59L10.3 9.45l-7.72 7.72c-.78.78-.78 2.05 0 2.83L4 21.41c.39.39.9.59 1.41.59.51 0 1.02-.2 1.41-.59l7.78-7.78 2.81-2.81c.8-.78.8-2.07 0-2.86zM5.41 20L4 18.59l7.72-7.72 1.47 1.35L5.41 20z\"/>\n",
              "  </svg>\n",
              "      </button>\n",
              "      \n",
              "  <style>\n",
              "    .colab-df-container {\n",
              "      display:flex;\n",
              "      flex-wrap:wrap;\n",
              "      gap: 12px;\n",
              "    }\n",
              "\n",
              "    .colab-df-convert {\n",
              "      background-color: #E8F0FE;\n",
              "      border: none;\n",
              "      border-radius: 50%;\n",
              "      cursor: pointer;\n",
              "      display: none;\n",
              "      fill: #1967D2;\n",
              "      height: 32px;\n",
              "      padding: 0 0 0 0;\n",
              "      width: 32px;\n",
              "    }\n",
              "\n",
              "    .colab-df-convert:hover {\n",
              "      background-color: #E2EBFA;\n",
              "      box-shadow: 0px 1px 2px rgba(60, 64, 67, 0.3), 0px 1px 3px 1px rgba(60, 64, 67, 0.15);\n",
              "      fill: #174EA6;\n",
              "    }\n",
              "\n",
              "    [theme=dark] .colab-df-convert {\n",
              "      background-color: #3B4455;\n",
              "      fill: #D2E3FC;\n",
              "    }\n",
              "\n",
              "    [theme=dark] .colab-df-convert:hover {\n",
              "      background-color: #434B5C;\n",
              "      box-shadow: 0px 1px 3px 1px rgba(0, 0, 0, 0.15);\n",
              "      filter: drop-shadow(0px 1px 2px rgba(0, 0, 0, 0.3));\n",
              "      fill: #FFFFFF;\n",
              "    }\n",
              "  </style>\n",
              "\n",
              "      <script>\n",
              "        const buttonEl =\n",
              "          document.querySelector('#df-4ba3ce7b-a4f8-4b81-ba8c-b9da64412869 button.colab-df-convert');\n",
              "        buttonEl.style.display =\n",
              "          google.colab.kernel.accessAllowed ? 'block' : 'none';\n",
              "\n",
              "        async function convertToInteractive(key) {\n",
              "          const element = document.querySelector('#df-4ba3ce7b-a4f8-4b81-ba8c-b9da64412869');\n",
              "          const dataTable =\n",
              "            await google.colab.kernel.invokeFunction('convertToInteractive',\n",
              "                                                     [key], {});\n",
              "          if (!dataTable) return;\n",
              "\n",
              "          const docLinkHtml = 'Like what you see? Visit the ' +\n",
              "            '<a target=\"_blank\" href=https://colab.research.google.com/notebooks/data_table.ipynb>data table notebook</a>'\n",
              "            + ' to learn more about interactive tables.';\n",
              "          element.innerHTML = '';\n",
              "          dataTable['output_type'] = 'display_data';\n",
              "          await google.colab.output.renderOutput(dataTable, element);\n",
              "          const docLink = document.createElement('div');\n",
              "          docLink.innerHTML = docLinkHtml;\n",
              "          element.appendChild(docLink);\n",
              "        }\n",
              "      </script>\n",
              "    </div>\n",
              "  </div>\n",
              "  "
            ]
          },
          "metadata": {},
          "execution_count": 4
        }
      ]
    },
    {
      "cell_type": "markdown",
      "source": [
        "Next, we will select a few features to explore in more detail.\n"
      ],
      "metadata": {
        "id": "iyhMfCu9WtY9"
      }
    },
    {
      "cell_type": "code",
      "source": [
        "selected_features = df[['water', 'cement', 'coarseaggregate', 'csMPa']]\n",
        "selected_features.head(10)"
      ],
      "metadata": {
        "colab": {
          "base_uri": "https://localhost:8080/",
          "height": 363
        },
        "id": "64YJDBSXZixn",
        "outputId": "1dab283b-63be-4313-f1f0-b48a178f88ef"
      },
      "execution_count": null,
      "outputs": [
        {
          "output_type": "execute_result",
          "data": {
            "text/plain": [
              "   water  cement  coarseaggregate  csMPa\n",
              "0  162.0   540.0           1040.0  79.99\n",
              "1  162.0   540.0           1055.0  61.89\n",
              "2  228.0   332.5            932.0  40.27\n",
              "3  228.0   332.5            932.0  41.05\n",
              "4  192.0   198.6            978.4  44.30\n",
              "5  228.0   266.0            932.0  47.03\n",
              "6  228.0   380.0            932.0  43.70\n",
              "7  228.0   380.0            932.0  36.45\n",
              "8  228.0   266.0            932.0  45.85\n",
              "9  228.0   475.0            932.0  39.29"
            ],
            "text/html": [
              "\n",
              "  <div id=\"df-18476be5-e690-4c24-a556-25d9e990c2c8\">\n",
              "    <div class=\"colab-df-container\">\n",
              "      <div>\n",
              "<style scoped>\n",
              "    .dataframe tbody tr th:only-of-type {\n",
              "        vertical-align: middle;\n",
              "    }\n",
              "\n",
              "    .dataframe tbody tr th {\n",
              "        vertical-align: top;\n",
              "    }\n",
              "\n",
              "    .dataframe thead th {\n",
              "        text-align: right;\n",
              "    }\n",
              "</style>\n",
              "<table border=\"1\" class=\"dataframe\">\n",
              "  <thead>\n",
              "    <tr style=\"text-align: right;\">\n",
              "      <th></th>\n",
              "      <th>water</th>\n",
              "      <th>cement</th>\n",
              "      <th>coarseaggregate</th>\n",
              "      <th>csMPa</th>\n",
              "    </tr>\n",
              "  </thead>\n",
              "  <tbody>\n",
              "    <tr>\n",
              "      <th>0</th>\n",
              "      <td>162.0</td>\n",
              "      <td>540.0</td>\n",
              "      <td>1040.0</td>\n",
              "      <td>79.99</td>\n",
              "    </tr>\n",
              "    <tr>\n",
              "      <th>1</th>\n",
              "      <td>162.0</td>\n",
              "      <td>540.0</td>\n",
              "      <td>1055.0</td>\n",
              "      <td>61.89</td>\n",
              "    </tr>\n",
              "    <tr>\n",
              "      <th>2</th>\n",
              "      <td>228.0</td>\n",
              "      <td>332.5</td>\n",
              "      <td>932.0</td>\n",
              "      <td>40.27</td>\n",
              "    </tr>\n",
              "    <tr>\n",
              "      <th>3</th>\n",
              "      <td>228.0</td>\n",
              "      <td>332.5</td>\n",
              "      <td>932.0</td>\n",
              "      <td>41.05</td>\n",
              "    </tr>\n",
              "    <tr>\n",
              "      <th>4</th>\n",
              "      <td>192.0</td>\n",
              "      <td>198.6</td>\n",
              "      <td>978.4</td>\n",
              "      <td>44.30</td>\n",
              "    </tr>\n",
              "    <tr>\n",
              "      <th>5</th>\n",
              "      <td>228.0</td>\n",
              "      <td>266.0</td>\n",
              "      <td>932.0</td>\n",
              "      <td>47.03</td>\n",
              "    </tr>\n",
              "    <tr>\n",
              "      <th>6</th>\n",
              "      <td>228.0</td>\n",
              "      <td>380.0</td>\n",
              "      <td>932.0</td>\n",
              "      <td>43.70</td>\n",
              "    </tr>\n",
              "    <tr>\n",
              "      <th>7</th>\n",
              "      <td>228.0</td>\n",
              "      <td>380.0</td>\n",
              "      <td>932.0</td>\n",
              "      <td>36.45</td>\n",
              "    </tr>\n",
              "    <tr>\n",
              "      <th>8</th>\n",
              "      <td>228.0</td>\n",
              "      <td>266.0</td>\n",
              "      <td>932.0</td>\n",
              "      <td>45.85</td>\n",
              "    </tr>\n",
              "    <tr>\n",
              "      <th>9</th>\n",
              "      <td>228.0</td>\n",
              "      <td>475.0</td>\n",
              "      <td>932.0</td>\n",
              "      <td>39.29</td>\n",
              "    </tr>\n",
              "  </tbody>\n",
              "</table>\n",
              "</div>\n",
              "      <button class=\"colab-df-convert\" onclick=\"convertToInteractive('df-18476be5-e690-4c24-a556-25d9e990c2c8')\"\n",
              "              title=\"Convert this dataframe to an interactive table.\"\n",
              "              style=\"display:none;\">\n",
              "        \n",
              "  <svg xmlns=\"http://www.w3.org/2000/svg\" height=\"24px\"viewBox=\"0 0 24 24\"\n",
              "       width=\"24px\">\n",
              "    <path d=\"M0 0h24v24H0V0z\" fill=\"none\"/>\n",
              "    <path d=\"M18.56 5.44l.94 2.06.94-2.06 2.06-.94-2.06-.94-.94-2.06-.94 2.06-2.06.94zm-11 1L8.5 8.5l.94-2.06 2.06-.94-2.06-.94L8.5 2.5l-.94 2.06-2.06.94zm10 10l.94 2.06.94-2.06 2.06-.94-2.06-.94-.94-2.06-.94 2.06-2.06.94z\"/><path d=\"M17.41 7.96l-1.37-1.37c-.4-.4-.92-.59-1.43-.59-.52 0-1.04.2-1.43.59L10.3 9.45l-7.72 7.72c-.78.78-.78 2.05 0 2.83L4 21.41c.39.39.9.59 1.41.59.51 0 1.02-.2 1.41-.59l7.78-7.78 2.81-2.81c.8-.78.8-2.07 0-2.86zM5.41 20L4 18.59l7.72-7.72 1.47 1.35L5.41 20z\"/>\n",
              "  </svg>\n",
              "      </button>\n",
              "      \n",
              "  <style>\n",
              "    .colab-df-container {\n",
              "      display:flex;\n",
              "      flex-wrap:wrap;\n",
              "      gap: 12px;\n",
              "    }\n",
              "\n",
              "    .colab-df-convert {\n",
              "      background-color: #E8F0FE;\n",
              "      border: none;\n",
              "      border-radius: 50%;\n",
              "      cursor: pointer;\n",
              "      display: none;\n",
              "      fill: #1967D2;\n",
              "      height: 32px;\n",
              "      padding: 0 0 0 0;\n",
              "      width: 32px;\n",
              "    }\n",
              "\n",
              "    .colab-df-convert:hover {\n",
              "      background-color: #E2EBFA;\n",
              "      box-shadow: 0px 1px 2px rgba(60, 64, 67, 0.3), 0px 1px 3px 1px rgba(60, 64, 67, 0.15);\n",
              "      fill: #174EA6;\n",
              "    }\n",
              "\n",
              "    [theme=dark] .colab-df-convert {\n",
              "      background-color: #3B4455;\n",
              "      fill: #D2E3FC;\n",
              "    }\n",
              "\n",
              "    [theme=dark] .colab-df-convert:hover {\n",
              "      background-color: #434B5C;\n",
              "      box-shadow: 0px 1px 3px 1px rgba(0, 0, 0, 0.15);\n",
              "      filter: drop-shadow(0px 1px 2px rgba(0, 0, 0, 0.3));\n",
              "      fill: #FFFFFF;\n",
              "    }\n",
              "  </style>\n",
              "\n",
              "      <script>\n",
              "        const buttonEl =\n",
              "          document.querySelector('#df-18476be5-e690-4c24-a556-25d9e990c2c8 button.colab-df-convert');\n",
              "        buttonEl.style.display =\n",
              "          google.colab.kernel.accessAllowed ? 'block' : 'none';\n",
              "\n",
              "        async function convertToInteractive(key) {\n",
              "          const element = document.querySelector('#df-18476be5-e690-4c24-a556-25d9e990c2c8');\n",
              "          const dataTable =\n",
              "            await google.colab.kernel.invokeFunction('convertToInteractive',\n",
              "                                                     [key], {});\n",
              "          if (!dataTable) return;\n",
              "\n",
              "          const docLinkHtml = 'Like what you see? Visit the ' +\n",
              "            '<a target=\"_blank\" href=https://colab.research.google.com/notebooks/data_table.ipynb>data table notebook</a>'\n",
              "            + ' to learn more about interactive tables.';\n",
              "          element.innerHTML = '';\n",
              "          dataTable['output_type'] = 'display_data';\n",
              "          await google.colab.output.renderOutput(dataTable, element);\n",
              "          const docLink = document.createElement('div');\n",
              "          docLink.innerHTML = docLinkHtml;\n",
              "          element.appendChild(docLink);\n",
              "        }\n",
              "      </script>\n",
              "    </div>\n",
              "  </div>\n",
              "  "
            ]
          },
          "metadata": {},
          "execution_count": 5
        }
      ]
    },
    {
      "cell_type": "markdown",
      "source": [
        "We can now visualize the distribution of each selected feature."
      ],
      "metadata": {
        "id": "1_ZAaFfVaExU"
      }
    },
    {
      "cell_type": "code",
      "source": [
        "selected_features.hist()\n",
        "plt.show()"
      ],
      "metadata": {
        "colab": {
          "base_uri": "https://localhost:8080/",
          "height": 452
        },
        "id": "UynY3QM3Z-Uz",
        "outputId": "7498c4d6-98bc-41a9-db55-fde50d410f87"
      },
      "execution_count": null,
      "outputs": [
        {
          "output_type": "display_data",
          "data": {
            "text/plain": [
              "<Figure size 640x480 with 4 Axes>"
            ],
            "image/png": "[encoded data removed]"
          },
          "metadata": {}
        }
      ]
    },
    {
      "cell_type": "markdown",
      "source": [
        "Now, let's examine the relationship between each feature and the compressive strength of the sample."
      ],
      "metadata": {
        "id": "_hAng3J7axmf"
      }
    },
    {
      "cell_type": "code",
      "source": [
        "plt.scatter(df.water, df.csMPa)\n",
        "plt.xlabel(\"Water\")\n",
        "plt.ylabel(\"Compressive Strength\")\n",
        "plt.show()"
      ],
      "metadata": {
        "colab": {
          "base_uri": "https://localhost:8080/",
          "height": 449
        },
        "id": "GaEBrv5Ua9YD",
        "outputId": "08c6fcc8-c6f1-4c23-82c7-fc221bb36c8d"
      },
      "execution_count": null,
      "outputs": [
        {
          "output_type": "display_data",
          "data": {
            "text/plain": [
              "<Figure size 640x480 with 1 Axes>"
            ],
            "image/png": "[encoded data removed]"
          },
          "metadata": {}
        }
      ]
    },
    {
      "cell_type": "markdown",
      "source": [
        "## Practice\n",
        "\n",
        "To assess the linearity of the relationship between **cement** and **compressive strength**, let's create a plot of the two variables."
      ],
      "metadata": {
        "id": "HfiQJhjFdMIk"
      }
    },
    {
      "cell_type": "code",
      "source": [
        "# write your answer code here:\n",
        "\n",
        "\n",
        "\n"
      ],
      "metadata": {
        "id": "TCqNjWafd2Ia"
      },
      "execution_count": null,
      "outputs": []
    },
    {
      "cell_type": "markdown",
      "source": [
        "<details><summary>Click here for the answer</summary>\n",
        "\n",
        "```python    \n",
        "plt.scatter(df.cement, df.csMPa)\n",
        "plt.xlabel(\"Cement\")\n",
        "plt.ylabel(\"Compressive Strength\")\n",
        "plt.show()\n",
        "\n",
        "```\n",
        "\n",
        "</details>"
      ],
      "metadata": {
        "id": "vFe41o-8eOcA"
      }
    },
    {
      "cell_type": "markdown",
      "source": [
        "## Practice\n",
        "\n",
        "To assess the linearity of the relationship between **coarse aggregate** and **compressive strength**, let's create a plot of the two variables."
      ],
      "metadata": {
        "id": "-KeQsyCgonwt"
      }
    },
    {
      "cell_type": "code",
      "source": [
        "# write your answer code here:\n",
        "\n",
        "\n",
        "\n"
      ],
      "metadata": {
        "id": "Q2kwXR6hopOs"
      },
      "execution_count": null,
      "outputs": []
    },
    {
      "cell_type": "markdown",
      "source": [
        "<details><summary>Click here for the answer</summary>\n",
        "\n",
        "```python    \n",
        "plt.scatter(df.coarseaggregate, df.csMPa)\n",
        "plt.xlabel(\"Coarse Aggregate\")\n",
        "plt.ylabel(\"Compressive Strength\")\n",
        "plt.show()\n",
        "\n",
        "```\n",
        "\n",
        "</details>"
      ],
      "metadata": {
        "id": "4ZiLmiw2ovtL"
      }
    },
    {
      "cell_type": "markdown",
      "source": [
        "### Step 5: Create train and test datasets\n",
        "In this section, we first assign the input features to X and the target variable to y. Next, we split the data into train and test sets using train_test_split from sklearn.model_selection.\n",
        "\n",
        "You can always adjust the test_size parameter as per your preference. In this code, we set `test_size=0.2`. Therefore, 20% of the data would be saved as the test dataset."
      ],
      "metadata": {
        "id": "_R2FN7Wb8nWJ"
      }
    },
    {
      "cell_type": "code",
      "source": [
        "from sklearn.model_selection import train_test_split\n",
        "\n",
        "# Split the dataset into input features (X) and target variable (y)\n",
        "X = df.drop('csMPa', axis=1)\n",
        "y = df['csMPa']\n",
        "\n",
        "# Split the data into train and test sets\n",
        "X_train, X_test, y_train, y_test = train_test_split(X, y, test_size=0.2, random_state=42)"
      ],
      "metadata": {
        "id": "o4zzheuRAgQ4"
      },
      "execution_count": null,
      "outputs": []
    },
    {
      "cell_type": "markdown",
      "source": [
        "### Step 6: Training the model\n",
        "Now let's move on to creating a simple regression model and training it on the training dataset.\n",
        "\n",
        "We first import LinearRegression from sklearn.linear_model. We then create an instance of the linear regression model and assign it to the variable model. Finally, we fit the model to the 'cement' attribute and y from training data using the fit method."
      ],
      "metadata": {
        "id": "c2UBE_7wD4ou"
      }
    },
    {
      "cell_type": "code",
      "source": [
        "from sklearn.linear_model import LinearRegression\n",
        "\n",
        "# Create a linear regression model\n",
        "model = LinearRegression()\n",
        "\n",
        "# Fit the model to the training data\n",
        "model.fit(X_train[['cement']], y_train)\n",
        "print ('Coefficients: ', model.coef_)\n",
        "print ('Intercept: ',model.intercept_)"
      ],
      "metadata": {
        "colab": {
          "base_uri": "https://localhost:8080/"
        },
        "id": "BnO_AYMFD5DY",
        "outputId": "d631a85d-c023-4ea5-fb0c-aa7e0422cbcc"
      },
      "execution_count": null,
      "outputs": [
        {
          "output_type": "stream",
          "name": "stdout",
          "text": [
            "Coefficients:  [0.07789607]\n",
            "Intercept:  13.785171881915776\n"
          ]
        }
      ]
    },
    {
      "cell_type": "markdown",
      "source": [
        "**Note**: The Coefficient and Intercept are the parameters for the fitted line in a simple linear regression."
      ],
      "metadata": {
        "id": "4YhLGVBKJzvR"
      }
    },
    {
      "cell_type": "markdown",
      "source": [
        "### Step 7: Plotting the model\n",
        "Now, let's plot the outputs of our regression model."
      ],
      "metadata": {
        "id": "10pnwzItH3E1"
      }
    },
    {
      "cell_type": "code",
      "source": [
        "plt.scatter(X_train[['cement']], y_train)\n",
        "plt.xlabel(\"Cement\")\n",
        "plt.ylabel(\"Compressive Strength\")\n",
        "plt.plot(X_train[['cement']], model.coef_[0]*X_train[['cement']] + model.intercept_, '-r');"
      ],
      "metadata": {
        "colab": {
          "base_uri": "https://localhost:8080/",
          "height": 449
        },
        "id": "h6YbXH4cGuMQ",
        "outputId": "5ec05e5e-b840-4405-f7dd-4076a4f73cc6"
      },
      "execution_count": null,
      "outputs": [
        {
          "output_type": "display_data",
          "data": {
            "text/plain": [
              "<Figure size 640x480 with 1 Axes>"
            ],
            "image/png": "[encoded data removed]"
          },
          "metadata": {}
        }
      ]
    },
    {
      "cell_type": "markdown",
      "source": [
        "### Step 8: Evaluation of the model\n",
        "Finally, let's evaluate the performance of our regression model.\n",
        "\n",
        "In order to assess the performance of our regression model, we calculate several evaluation metrics based on a comparison between the predicted values and the actual values from the test set.\n",
        "\n",
        "1.   **Mean Absolute Error (MAE)**: MAE represents the average absolute difference between the predicted and actual values. It provides a measure of the average magnitude of errors, without considering their direction. Lower MAE values indicate better model performance.\n",
        "\n",
        "2.   **Mean Squared Error (MSE)**: MSE calculates the average of the squared differences between the predicted and actual values. By squaring the errors, MSE emphasizes larger errors and penalizes them more than smaller errors. It is a popular metric, especially when dealing with outliers or larger errors. Like MAE, lower MSE values indicate better model performance.\n",
        "\n",
        "3.   **Root Mean Squared Error (RMSE)**: RMSE is the square root of MSE and provides an interpretable scale that is in the same unit as the target variable. It represents the average magnitude of errors and is often preferred when the focus is on the interpretability of the error metric.\n",
        "\n",
        "4.   **R-squared (R2) score**: R-squared measures the proportion of the variance in the target variable that can be explained by the regression model. It ranges from 0 to 1, with 1 indicating a perfect fit and 0 indicating that the model does not explain any of the variability in the data. R2 is a useful metric for understanding how well the model fits the data, but it should be used in conjunction with other metrics to assess the overall performance.\n",
        "\n",
        "By calculating and examining these evaluation metrics, we gain insights into the accuracy and performance of our regression model. Lower values of MAE, MSE, and RMSE, and higher values of R2 indicate better model performance."
      ],
      "metadata": {
        "id": "2xVAUPjMNZFK"
      }
    },
    {
      "cell_type": "code",
      "source": [
        "from sklearn.metrics import r2_score\n",
        "\n",
        "# Predict on the test data\n",
        "y_pred = model.predict(X_test[['cement']])\n",
        "\n",
        "# Calculate Mean Absolute Error (MAE)\n",
        "mae = np.mean(np.absolute(y_test - y_pred))\n",
        "\n",
        "# Calculate Mean Squared Error (MSE)\n",
        "mse = np.mean((y_test - y_pred) ** 2)\n",
        "\n",
        "# Calculate Root Mean Squared Error (RMSE)\n",
        "rmse = np.sqrt(mse)\n",
        "\n",
        "# Calculate R-squared (R2) score\n",
        "r2 = r2_score(y_test, y_pred)\n",
        "\n",
        "print('Mean Absolute Error (MAE):', mae)\n",
        "print('Mean Squared Error (MSE):', mse)\n",
        "print('Root Mean Squared Error (RMSE):', rmse)\n",
        "print('R-squared (R2) score:', r2)"
      ],
      "metadata": {
        "colab": {
          "base_uri": "https://localhost:8080/"
        },
        "id": "j3WEFzhwQhTe",
        "outputId": "cb3f44b7-5a43-42ee-db6c-309d4c92fa6c"
      },
      "execution_count": null,
      "outputs": [
        {
          "output_type": "stream",
          "name": "stdout",
          "text": [
            "Mean Absolute Error (MAE): 11.55561279863471\n",
            "Mean Squared Error (MSE): 192.78479855432548\n",
            "Root Mean Squared Error (RMSE): 13.884696559677689\n",
            "R-squared (R2) score: 0.25183513628298093\n"
          ]
        }
      ]
    },
    {
      "cell_type": "markdown",
      "source": [
        "**Did you know?**\n",
        "\n",
        "There are readily available functions, offered by `sklearn`, to calculate mean absolute error and mean squared error, which can be used to calculate these evaluation metrics directly without the need for manual calculations:\n",
        "```python    \n",
        "from sklearn.metrics import mean_absolute_error, mean_squared_error\n",
        "mae = mean_absolute_error(y_test, y_pred)\n",
        "mse = mean_squared_error(y_test, y_pred)\n",
        "```"
      ],
      "metadata": {
        "id": "HHktSfe6lOWU"
      }
    },
    {
      "cell_type": "markdown",
      "source": [
        "### **Conclusion**\n",
        "As you can see, the linear regression model shows some predictive capability for the given data. However, the evaluation metrics, including MAE, MSE, RMSE, and R2 score, suggest that there is room for improvement.\n",
        "\n",
        " The magnitude of errors, as indicated by the MAE, MSE, and RMSE, highlights the model's limitations in accurately predicting the compressive strength of concrete based on its attributes. Additionally, the relatively low R2 score suggests that the model's ability to explain the variability in the data is limited.\n",
        "\n",
        "Further refinement of the model or exploration of **alternative models** may be necessary to enhance the predictive performance and better capture the complexity of the relationship between the cement attributes and compressive strength."
      ],
      "metadata": {
        "id": "kNhhaIqkNZDB"
      }
    },
    {
      "cell_type": "markdown",
      "source": [
        "## Practice\n",
        "\n",
        "Let's examine the evaluation metrics obtained when training a regression model  using the `water` feature.\n",
        "\n",
        "You have to train a Linear Regression Model (model2) using `X_train[['water']]` and `y_train`."
      ],
      "metadata": {
        "id": "TFQvAA2oZv0_"
      }
    },
    {
      "cell_type": "code",
      "source": [
        "# Create another linear regression model\n",
        "model2 = LinearRegression()\n",
        "\n",
        "# Fit the model to the training data\n",
        "# YOUR CODE"
      ],
      "metadata": {
        "id": "-2p8NfIOZv1E"
      },
      "execution_count": null,
      "outputs": []
    },
    {
      "cell_type": "markdown",
      "source": [
        "<details><summary>Click here for the answer</summary>\n",
        "\n",
        "```python    \n",
        "# Create another linear regression model\n",
        "model2 = LinearRegression()\n",
        "\n",
        "# Fit the model to the training data\n",
        "model2.fit(X_train[['water']], y_train)\n",
        "```\n",
        "\n",
        "</details>"
      ],
      "metadata": {
        "id": "d6j2ZToaZv1E"
      }
    },
    {
      "cell_type": "markdown",
      "source": [
        "Obtain the predictions by using the `predict` function of the model and the `X_test[['water']]`  data."
      ],
      "metadata": {
        "id": "e9ogv-QGg44l"
      }
    },
    {
      "cell_type": "code",
      "source": [
        "# Predict on the test data\n",
        "y_pred2 = # YOUR CODE"
      ],
      "metadata": {
        "id": "9ayg6GAKg9N_"
      },
      "execution_count": null,
      "outputs": []
    },
    {
      "cell_type": "markdown",
      "source": [
        "<details><summary>Click here for the answer</summary>\n",
        "\n",
        "```python    \n",
        "# Predict on the test data\n",
        "y_pred2 = model2.predict(X_test[['water']])\n",
        "```\n",
        "\n",
        "</details>"
      ],
      "metadata": {
        "id": "KeD7IfIpg9mQ"
      }
    },
    {
      "cell_type": "markdown",
      "source": [
        "Lastly, calculate the four evaluation metrics by utilizing `y_pred2 ` and `y_test` data. This can be done by applying the `np.absolute` and `np.mean` functions to obtain the absolute differences between the predicted values and the actual values, and then to calculate the average of these absolute differences."
      ],
      "metadata": {
        "id": "yQpJes_LjsAI"
      }
    },
    {
      "cell_type": "code",
      "source": [
        "# YOUR CODE:\n",
        "mae = # YOUR CODE\n",
        "mse = # YOUR CODE\n",
        "rmse = # YOUR CODE\n",
        "r2 = # YOUR CODE\n",
        "print('Mean Absolute Error (MAE):', mae)\n",
        "print('Mean Squared Error (MSE):', mse)\n",
        "print('Root Mean Squared Error (RMSE):', rmse)\n",
        "print('R-squared (R2) score:', r2)"
      ],
      "metadata": {
        "id": "sID4Cd1pjrQr"
      },
      "execution_count": null,
      "outputs": []
    },
    {
      "cell_type": "markdown",
      "source": [
        "<details><summary>Click here for the answer</summary>\n",
        "\n",
        "``` python\n",
        "mae = np.mean(np.absolute(y_test - y_pred2))\n",
        "mse = np.mean((y_test - y_pred2) ** 2)\n",
        "rmse = np.sqrt(mse)\n",
        "r2 = r2_score(y_test, y_pred2)\n",
        "print('Mean Absolute Error (MAE):', mae)\n",
        "print('Mean Squared Error (MSE):', mse)\n",
        "print('Root Mean Squared Error (RMSE):', rmse)\n",
        "print('R-squared (R2) score:', r2)\n",
        "```\n",
        "\n",
        "</details>"
      ],
      "metadata": {
        "id": "zwrykfBArP_x"
      }
    },
    {
      "cell_type": "markdown",
      "source": [
        "We can see that the new model works worse than the previous model."
      ],
      "metadata": {
        "id": "iDCWXNAls8MV"
      }
    },
    {
      "cell_type": "markdown",
      "source": [
        "### Thank you and good luck!"
      ],
      "metadata": {
        "id": "UGuN2A_QsVpF"
      }
    }
  ]
}