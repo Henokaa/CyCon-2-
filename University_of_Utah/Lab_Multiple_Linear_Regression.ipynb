{
  "nbformat": 4,
  "nbformat_minor": 0,
  "metadata": {
    "colab": {
      "provenance": []
    },
    "kernelspec": {
      "name": "python3",
      "display_name": "Python 3"
    },
    "language_info": {
      "name": "python"
    }
  },
  "cells": [
    {
      "cell_type": "markdown",
      "source": [
        "<center> <a href=\"https://github.com/CyConProject?tab=repositories\">\n",
        "  <img src=\"https://github.com/CyConProject/Lab/blob/main/Figures/CyCon.png?raw=true\" alt=\"logo\" width=\"80\" >\n",
        "</a>\n",
        " </center>\n",
        "\n",
        "# Multiple Linear Regression\n",
        "\n",
        "In this lab, we will explore the concept of multiple linear regression and its application in construction. Multiple linear regression is a statistical technique that allows us to understand the relationship between a dependent variable and multiple independent variables. We will learn how to build a multiple linear regression model, interpret the results, and make predictions. This knowledge will enable the construction workforce to analyze and predict various construction-related factors, such as the compressive strength of concrete, based on historical data.\n",
        "\n",
        "### Objectives:\n",
        "\n",
        "After completing this lab, you will have achieved the following:\n",
        "\n",
        "  - Implement multiple linear regression using scikit-learn.\n",
        "  - Create a regression model with multiple independent variables.\n",
        "  - Train the regression model on a dataset.\n",
        "  - Test the regression model using the test dataset.\n",
        "  - Evaluate the performance of the regression model using evaluation metrics such as mean squared error (MSE) and coefficient of determination (R-squared).\n",
        "\n",
        "By mastering these concepts and techniques, you will gain valuable skills in implementing and utilizing multiple linear regression models for predictive analysis."
      ],
      "metadata": {
        "id": "J3-F9uJhT8oi"
      }
    },
    {
      "cell_type": "markdown",
      "source": [
        "### Step 1: Import necessary libraries"
      ],
      "metadata": {
        "id": "AHOavGJvuzwG"
      }
    },
    {
      "cell_type": "code",
      "execution_count": 1,
      "metadata": {
        "id": "9ojYYGt5LbGs"
      },
      "outputs": [],
      "source": [
        "import pandas as pd\n",
        "import numpy as np\n",
        "import matplotlib.pyplot as plt"
      ]
    },
    {
      "cell_type": "markdown",
      "source": [
        "### Step 2: Load the construction dataset"
      ],
      "metadata": {
        "id": "-hleZmBiwviu"
      }
    },
    {
      "cell_type": "code",
      "source": [
        "# Load the dataset\n",
        "url = 'https://raw.githubusercontent.com/CyConProject/Lab/main/Datasets/Concrete_Data.csv'\n",
        "df = pd.read_csv(url)"
      ],
      "metadata": {
        "id": "FbLsoxhowzJJ"
      },
      "execution_count": 2,
      "outputs": []
    },
    {
      "cell_type": "markdown",
      "source": [
        "### Step 3: Explore the dataset"
      ],
      "metadata": {
        "id": "kcGtYneewzcZ"
      }
    },
    {
      "cell_type": "code",
      "source": [
        "# Display the first few rows of the dataset\n",
        "df.head()"
      ],
      "metadata": {
        "colab": {
          "base_uri": "https://localhost:8080/",
          "height": 206
        },
        "id": "q9AoaiYZxP8W",
        "outputId": "835bd4b5-1de8-4868-ebeb-1c4d42ab245b"
      },
      "execution_count": 3,
      "outputs": [
        {
          "output_type": "execute_result",
          "data": {
            "text/plain": [
              "   cement   slag  flyash  water  superplasticizer  coarseaggregate  \\\n",
              "0   540.0    0.0     0.0  162.0               2.5           1040.0   \n",
              "1   540.0    0.0     0.0  162.0               2.5           1055.0   \n",
              "2   332.5  142.5     0.0  228.0               0.0            932.0   \n",
              "3   332.5  142.5     0.0  228.0               0.0            932.0   \n",
              "4   198.6  132.4     0.0  192.0               0.0            978.4   \n",
              "\n",
              "   fineaggregate  age  csMPa  \n",
              "0          676.0   28  79.99  \n",
              "1          676.0   28  61.89  \n",
              "2          594.0  270  40.27  \n",
              "3          594.0  365  41.05  \n",
              "4          825.5  360  44.30  "
            ],
            "text/html": [
              "\n",
              "  <div id=\"df-b3c732b6-0a75-4486-af9a-aac720ad5747\">\n",
              "    <div class=\"colab-df-container\">\n",
              "      <div>\n",
              "<style scoped>\n",
              "    .dataframe tbody tr th:only-of-type {\n",
              "        vertical-align: middle;\n",
              "    }\n",
              "\n",
              "    .dataframe tbody tr th {\n",
              "        vertical-align: top;\n",
              "    }\n",
              "\n",
              "    .dataframe thead th {\n",
              "        text-align: right;\n",
              "    }\n",
              "</style>\n",
              "<table border=\"1\" class=\"dataframe\">\n",
              "  <thead>\n",
              "    <tr style=\"text-align: right;\">\n",
              "      <th></th>\n",
              "      <th>cement</th>\n",
              "      <th>slag</th>\n",
              "      <th>flyash</th>\n",
              "      <th>water</th>\n",
              "      <th>superplasticizer</th>\n",
              "      <th>coarseaggregate</th>\n",
              "      <th>fineaggregate</th>\n",
              "      <th>age</th>\n",
              "      <th>csMPa</th>\n",
              "    </tr>\n",
              "  </thead>\n",
              "  <tbody>\n",
              "    <tr>\n",
              "      <th>0</th>\n",
              "      <td>540.0</td>\n",
              "      <td>0.0</td>\n",
              "      <td>0.0</td>\n",
              "      <td>162.0</td>\n",
              "      <td>2.5</td>\n",
              "      <td>1040.0</td>\n",
              "      <td>676.0</td>\n",
              "      <td>28</td>\n",
              "      <td>79.99</td>\n",
              "    </tr>\n",
              "    <tr>\n",
              "      <th>1</th>\n",
              "      <td>540.0</td>\n",
              "      <td>0.0</td>\n",
              "      <td>0.0</td>\n",
              "      <td>162.0</td>\n",
              "      <td>2.5</td>\n",
              "      <td>1055.0</td>\n",
              "      <td>676.0</td>\n",
              "      <td>28</td>\n",
              "      <td>61.89</td>\n",
              "    </tr>\n",
              "    <tr>\n",
              "      <th>2</th>\n",
              "      <td>332.5</td>\n",
              "      <td>142.5</td>\n",
              "      <td>0.0</td>\n",
              "      <td>228.0</td>\n",
              "      <td>0.0</td>\n",
              "      <td>932.0</td>\n",
              "      <td>594.0</td>\n",
              "      <td>270</td>\n",
              "      <td>40.27</td>\n",
              "    </tr>\n",
              "    <tr>\n",
              "      <th>3</th>\n",
              "      <td>332.5</td>\n",
              "      <td>142.5</td>\n",
              "      <td>0.0</td>\n",
              "      <td>228.0</td>\n",
              "      <td>0.0</td>\n",
              "      <td>932.0</td>\n",
              "      <td>594.0</td>\n",
              "      <td>365</td>\n",
              "      <td>41.05</td>\n",
              "    </tr>\n",
              "    <tr>\n",
              "      <th>4</th>\n",
              "      <td>198.6</td>\n",
              "      <td>132.4</td>\n",
              "      <td>0.0</td>\n",
              "      <td>192.0</td>\n",
              "      <td>0.0</td>\n",
              "      <td>978.4</td>\n",
              "      <td>825.5</td>\n",
              "      <td>360</td>\n",
              "      <td>44.30</td>\n",
              "    </tr>\n",
              "  </tbody>\n",
              "</table>\n",
              "</div>\n",
              "      <button class=\"colab-df-convert\" onclick=\"convertToInteractive('df-b3c732b6-0a75-4486-af9a-aac720ad5747')\"\n",
              "              title=\"Convert this dataframe to an interactive table.\"\n",
              "              style=\"display:none;\">\n",
              "        \n",
              "  <svg xmlns=\"http://www.w3.org/2000/svg\" height=\"24px\"viewBox=\"0 0 24 24\"\n",
              "       width=\"24px\">\n",
              "    <path d=\"M0 0h24v24H0V0z\" fill=\"none\"/>\n",
              "    <path d=\"M18.56 5.44l.94 2.06.94-2.06 2.06-.94-2.06-.94-.94-2.06-.94 2.06-2.06.94zm-11 1L8.5 8.5l.94-2.06 2.06-.94-2.06-.94L8.5 2.5l-.94 2.06-2.06.94zm10 10l.94 2.06.94-2.06 2.06-.94-2.06-.94-.94-2.06-.94 2.06-2.06.94z\"/><path d=\"M17.41 7.96l-1.37-1.37c-.4-.4-.92-.59-1.43-.59-.52 0-1.04.2-1.43.59L10.3 9.45l-7.72 7.72c-.78.78-.78 2.05 0 2.83L4 21.41c.39.39.9.59 1.41.59.51 0 1.02-.2 1.41-.59l7.78-7.78 2.81-2.81c.8-.78.8-2.07 0-2.86zM5.41 20L4 18.59l7.72-7.72 1.47 1.35L5.41 20z\"/>\n",
              "  </svg>\n",
              "      </button>\n",
              "      \n",
              "  <style>\n",
              "    .colab-df-container {\n",
              "      display:flex;\n",
              "      flex-wrap:wrap;\n",
              "      gap: 12px;\n",
              "    }\n",
              "\n",
              "    .colab-df-convert {\n",
              "      background-color: #E8F0FE;\n",
              "      border: none;\n",
              "      border-radius: 50%;\n",
              "      cursor: pointer;\n",
              "      display: none;\n",
              "      fill: #1967D2;\n",
              "      height: 32px;\n",
              "      padding: 0 0 0 0;\n",
              "      width: 32px;\n",
              "    }\n",
              "\n",
              "    .colab-df-convert:hover {\n",
              "      background-color: #E2EBFA;\n",
              "      box-shadow: 0px 1px 2px rgba(60, 64, 67, 0.3), 0px 1px 3px 1px rgba(60, 64, 67, 0.15);\n",
              "      fill: #174EA6;\n",
              "    }\n",
              "\n",
              "    [theme=dark] .colab-df-convert {\n",
              "      background-color: #3B4455;\n",
              "      fill: #D2E3FC;\n",
              "    }\n",
              "\n",
              "    [theme=dark] .colab-df-convert:hover {\n",
              "      background-color: #434B5C;\n",
              "      box-shadow: 0px 1px 3px 1px rgba(0, 0, 0, 0.15);\n",
              "      filter: drop-shadow(0px 1px 2px rgba(0, 0, 0, 0.3));\n",
              "      fill: #FFFFFF;\n",
              "    }\n",
              "  </style>\n",
              "\n",
              "      <script>\n",
              "        const buttonEl =\n",
              "          document.querySelector('#df-b3c732b6-0a75-4486-af9a-aac720ad5747 button.colab-df-convert');\n",
              "        buttonEl.style.display =\n",
              "          google.colab.kernel.accessAllowed ? 'block' : 'none';\n",
              "\n",
              "        async function convertToInteractive(key) {\n",
              "          const element = document.querySelector('#df-b3c732b6-0a75-4486-af9a-aac720ad5747');\n",
              "          const dataTable =\n",
              "            await google.colab.kernel.invokeFunction('convertToInteractive',\n",
              "                                                     [key], {});\n",
              "          if (!dataTable) return;\n",
              "\n",
              "          const docLinkHtml = 'Like what you see? Visit the ' +\n",
              "            '<a target=\"_blank\" href=https://colab.research.google.com/notebooks/data_table.ipynb>data table notebook</a>'\n",
              "            + ' to learn more about interactive tables.';\n",
              "          element.innerHTML = '';\n",
              "          dataTable['output_type'] = 'display_data';\n",
              "          await google.colab.output.renderOutput(dataTable, element);\n",
              "          const docLink = document.createElement('div');\n",
              "          docLink.innerHTML = docLinkHtml;\n",
              "          element.appendChild(docLink);\n",
              "        }\n",
              "      </script>\n",
              "    </div>\n",
              "  </div>\n",
              "  "
            ]
          },
          "metadata": {},
          "execution_count": 3
        }
      ]
    },
    {
      "cell_type": "markdown",
      "source": [
        "#### `Concrete_Data.csv`:\n",
        "\n",
        "The regression problem focuses on predicting the concrete compressive strength using its components as well as its age. The variables are listed in the same order as the numerical values in the database rows.\n",
        "\n",
        "    Name -- Data Type -- Measurement -- Description\n",
        "1.   **Cement** -- quantitative -- kg in a m3 mixture -- Input Variable\n",
        "2.   **Blast Furnace Slag** -- quantitative -- kg in a m3 mixture -- Input Variable\n",
        "3.   **Fly Ash** -- quantitative -- kg in a m3 mixture -- Input Variable\n",
        "4.   **Water** -- quantitative -- kg in a m3 mixture -- Input Variable\n",
        "5.   **Superplasticizer** -- quantitative -- kg in a m3 mixture -- Input Variable\n",
        "6.   **Coarse Aggregate** -- quantitative -- kg in a m3 mixture -- Input Variable\n",
        "7.   **Fine Aggregate** -- quantitative -- kg in a m3 mixture -- Input Variable\n",
        "8.   **Age** -- quantitative -- Day (1~365) -- Input Variable\n",
        "9.   **Concrete compressive strength** -- quantitative -- MPa -- Output Variable\n",
        "\n",
        "\n",
        "[`Data source`](https://archive.ics.uci.edu/dataset/165/concrete+compressive+strength)"
      ],
      "metadata": {
        "id": "ixHkl02XxZrH"
      }
    },
    {
      "cell_type": "markdown",
      "source": [
        "### Step 4: Data analysis\n",
        "Let's begin by performing a descriptive exploration of our data."
      ],
      "metadata": {
        "id": "dZzOmLFxxiCB"
      }
    },
    {
      "cell_type": "code",
      "source": [
        "# Generates a statistical summary of the DataFrame.\n",
        "df.describe().T"
      ],
      "metadata": {
        "colab": {
          "base_uri": "https://localhost:8080/",
          "height": 332
        },
        "id": "udW5Khi7xi_n",
        "outputId": "ebc9d750-dbf6-45d8-d282-c35f5871aa3c"
      },
      "execution_count": 4,
      "outputs": [
        {
          "output_type": "execute_result",
          "data": {
            "text/plain": [
              "                   count        mean         std     min      25%      50%  \\\n",
              "cement            1030.0  281.167864  104.506364  102.00  192.375  272.900   \n",
              "slag              1030.0   73.895825   86.279342    0.00    0.000   22.000   \n",
              "flyash            1030.0   54.188350   63.997004    0.00    0.000    0.000   \n",
              "water             1030.0  181.567282   21.354219  121.80  164.900  185.000   \n",
              "superplasticizer  1030.0    6.204660    5.973841    0.00    0.000    6.400   \n",
              "coarseaggregate   1030.0  972.918932   77.753954  801.00  932.000  968.000   \n",
              "fineaggregate     1030.0  773.580485   80.175980  594.00  730.950  779.500   \n",
              "age               1030.0   45.662136   63.169912    1.00    7.000   28.000   \n",
              "csMPa             1030.0   35.817961   16.705742    2.33   23.710   34.445   \n",
              "\n",
              "                       75%     max  \n",
              "cement             350.000   540.0  \n",
              "slag               142.950   359.4  \n",
              "flyash             118.300   200.1  \n",
              "water              192.000   247.0  \n",
              "superplasticizer    10.200    32.2  \n",
              "coarseaggregate   1029.400  1145.0  \n",
              "fineaggregate      824.000   992.6  \n",
              "age                 56.000   365.0  \n",
              "csMPa               46.135    82.6  "
            ],
            "text/html": [
              "\n",
              "  <div id=\"df-de02ab32-6802-4668-9b5f-64b043c7b378\">\n",
              "    <div class=\"colab-df-container\">\n",
              "      <div>\n",
              "<style scoped>\n",
              "    .dataframe tbody tr th:only-of-type {\n",
              "        vertical-align: middle;\n",
              "    }\n",
              "\n",
              "    .dataframe tbody tr th {\n",
              "        vertical-align: top;\n",
              "    }\n",
              "\n",
              "    .dataframe thead th {\n",
              "        text-align: right;\n",
              "    }\n",
              "</style>\n",
              "<table border=\"1\" class=\"dataframe\">\n",
              "  <thead>\n",
              "    <tr style=\"text-align: right;\">\n",
              "      <th></th>\n",
              "      <th>count</th>\n",
              "      <th>mean</th>\n",
              "      <th>std</th>\n",
              "      <th>min</th>\n",
              "      <th>25%</th>\n",
              "      <th>50%</th>\n",
              "      <th>75%</th>\n",
              "      <th>max</th>\n",
              "    </tr>\n",
              "  </thead>\n",
              "  <tbody>\n",
              "    <tr>\n",
              "      <th>cement</th>\n",
              "      <td>1030.0</td>\n",
              "      <td>281.167864</td>\n",
              "      <td>104.506364</td>\n",
              "      <td>102.00</td>\n",
              "      <td>192.375</td>\n",
              "      <td>272.900</td>\n",
              "      <td>350.000</td>\n",
              "      <td>540.0</td>\n",
              "    </tr>\n",
              "    <tr>\n",
              "      <th>slag</th>\n",
              "      <td>1030.0</td>\n",
              "      <td>73.895825</td>\n",
              "      <td>86.279342</td>\n",
              "      <td>0.00</td>\n",
              "      <td>0.000</td>\n",
              "      <td>22.000</td>\n",
              "      <td>142.950</td>\n",
              "      <td>359.4</td>\n",
              "    </tr>\n",
              "    <tr>\n",
              "      <th>flyash</th>\n",
              "      <td>1030.0</td>\n",
              "      <td>54.188350</td>\n",
              "      <td>63.997004</td>\n",
              "      <td>0.00</td>\n",
              "      <td>0.000</td>\n",
              "      <td>0.000</td>\n",
              "      <td>118.300</td>\n",
              "      <td>200.1</td>\n",
              "    </tr>\n",
              "    <tr>\n",
              "      <th>water</th>\n",
              "      <td>1030.0</td>\n",
              "      <td>181.567282</td>\n",
              "      <td>21.354219</td>\n",
              "      <td>121.80</td>\n",
              "      <td>164.900</td>\n",
              "      <td>185.000</td>\n",
              "      <td>192.000</td>\n",
              "      <td>247.0</td>\n",
              "    </tr>\n",
              "    <tr>\n",
              "      <th>superplasticizer</th>\n",
              "      <td>1030.0</td>\n",
              "      <td>6.204660</td>\n",
              "      <td>5.973841</td>\n",
              "      <td>0.00</td>\n",
              "      <td>0.000</td>\n",
              "      <td>6.400</td>\n",
              "      <td>10.200</td>\n",
              "      <td>32.2</td>\n",
              "    </tr>\n",
              "    <tr>\n",
              "      <th>coarseaggregate</th>\n",
              "      <td>1030.0</td>\n",
              "      <td>972.918932</td>\n",
              "      <td>77.753954</td>\n",
              "      <td>801.00</td>\n",
              "      <td>932.000</td>\n",
              "      <td>968.000</td>\n",
              "      <td>1029.400</td>\n",
              "      <td>1145.0</td>\n",
              "    </tr>\n",
              "    <tr>\n",
              "      <th>fineaggregate</th>\n",
              "      <td>1030.0</td>\n",
              "      <td>773.580485</td>\n",
              "      <td>80.175980</td>\n",
              "      <td>594.00</td>\n",
              "      <td>730.950</td>\n",
              "      <td>779.500</td>\n",
              "      <td>824.000</td>\n",
              "      <td>992.6</td>\n",
              "    </tr>\n",
              "    <tr>\n",
              "      <th>age</th>\n",
              "      <td>1030.0</td>\n",
              "      <td>45.662136</td>\n",
              "      <td>63.169912</td>\n",
              "      <td>1.00</td>\n",
              "      <td>7.000</td>\n",
              "      <td>28.000</td>\n",
              "      <td>56.000</td>\n",
              "      <td>365.0</td>\n",
              "    </tr>\n",
              "    <tr>\n",
              "      <th>csMPa</th>\n",
              "      <td>1030.0</td>\n",
              "      <td>35.817961</td>\n",
              "      <td>16.705742</td>\n",
              "      <td>2.33</td>\n",
              "      <td>23.710</td>\n",
              "      <td>34.445</td>\n",
              "      <td>46.135</td>\n",
              "      <td>82.6</td>\n",
              "    </tr>\n",
              "  </tbody>\n",
              "</table>\n",
              "</div>\n",
              "      <button class=\"colab-df-convert\" onclick=\"convertToInteractive('df-de02ab32-6802-4668-9b5f-64b043c7b378')\"\n",
              "              title=\"Convert this dataframe to an interactive table.\"\n",
              "              style=\"display:none;\">\n",
              "        \n",
              "  <svg xmlns=\"http://www.w3.org/2000/svg\" height=\"24px\"viewBox=\"0 0 24 24\"\n",
              "       width=\"24px\">\n",
              "    <path d=\"M0 0h24v24H0V0z\" fill=\"none\"/>\n",
              "    <path d=\"M18.56 5.44l.94 2.06.94-2.06 2.06-.94-2.06-.94-.94-2.06-.94 2.06-2.06.94zm-11 1L8.5 8.5l.94-2.06 2.06-.94-2.06-.94L8.5 2.5l-.94 2.06-2.06.94zm10 10l.94 2.06.94-2.06 2.06-.94-2.06-.94-.94-2.06-.94 2.06-2.06.94z\"/><path d=\"M17.41 7.96l-1.37-1.37c-.4-.4-.92-.59-1.43-.59-.52 0-1.04.2-1.43.59L10.3 9.45l-7.72 7.72c-.78.78-.78 2.05 0 2.83L4 21.41c.39.39.9.59 1.41.59.51 0 1.02-.2 1.41-.59l7.78-7.78 2.81-2.81c.8-.78.8-2.07 0-2.86zM5.41 20L4 18.59l7.72-7.72 1.47 1.35L5.41 20z\"/>\n",
              "  </svg>\n",
              "      </button>\n",
              "      \n",
              "  <style>\n",
              "    .colab-df-container {\n",
              "      display:flex;\n",
              "      flex-wrap:wrap;\n",
              "      gap: 12px;\n",
              "    }\n",
              "\n",
              "    .colab-df-convert {\n",
              "      background-color: #E8F0FE;\n",
              "      border: none;\n",
              "      border-radius: 50%;\n",
              "      cursor: pointer;\n",
              "      display: none;\n",
              "      fill: #1967D2;\n",
              "      height: 32px;\n",
              "      padding: 0 0 0 0;\n",
              "      width: 32px;\n",
              "    }\n",
              "\n",
              "    .colab-df-convert:hover {\n",
              "      background-color: #E2EBFA;\n",
              "      box-shadow: 0px 1px 2px rgba(60, 64, 67, 0.3), 0px 1px 3px 1px rgba(60, 64, 67, 0.15);\n",
              "      fill: #174EA6;\n",
              "    }\n",
              "\n",
              "    [theme=dark] .colab-df-convert {\n",
              "      background-color: #3B4455;\n",
              "      fill: #D2E3FC;\n",
              "    }\n",
              "\n",
              "    [theme=dark] .colab-df-convert:hover {\n",
              "      background-color: #434B5C;\n",
              "      box-shadow: 0px 1px 3px 1px rgba(0, 0, 0, 0.15);\n",
              "      filter: drop-shadow(0px 1px 2px rgba(0, 0, 0, 0.3));\n",
              "      fill: #FFFFFF;\n",
              "    }\n",
              "  </style>\n",
              "\n",
              "      <script>\n",
              "        const buttonEl =\n",
              "          document.querySelector('#df-de02ab32-6802-4668-9b5f-64b043c7b378 button.colab-df-convert');\n",
              "        buttonEl.style.display =\n",
              "          google.colab.kernel.accessAllowed ? 'block' : 'none';\n",
              "\n",
              "        async function convertToInteractive(key) {\n",
              "          const element = document.querySelector('#df-de02ab32-6802-4668-9b5f-64b043c7b378');\n",
              "          const dataTable =\n",
              "            await google.colab.kernel.invokeFunction('convertToInteractive',\n",
              "                                                     [key], {});\n",
              "          if (!dataTable) return;\n",
              "\n",
              "          const docLinkHtml = 'Like what you see? Visit the ' +\n",
              "            '<a target=\"_blank\" href=https://colab.research.google.com/notebooks/data_table.ipynb>data table notebook</a>'\n",
              "            + ' to learn more about interactive tables.';\n",
              "          element.innerHTML = '';\n",
              "          dataTable['output_type'] = 'display_data';\n",
              "          await google.colab.output.renderOutput(dataTable, element);\n",
              "          const docLink = document.createElement('div');\n",
              "          docLink.innerHTML = docLinkHtml;\n",
              "          element.appendChild(docLink);\n",
              "        }\n",
              "      </script>\n",
              "    </div>\n",
              "  </div>\n",
              "  "
            ]
          },
          "metadata": {},
          "execution_count": 4
        }
      ]
    },
    {
      "cell_type": "markdown",
      "source": [
        "Next, we will select a few features to explore in more detail."
      ],
      "metadata": {
        "id": "jKM4jFV4zPQh"
      }
    },
    {
      "cell_type": "code",
      "source": [
        "selected_features = df[['cement', 'superplasticizer', 'age', 'csMPa']]\n",
        "selected_features.head(10)"
      ],
      "metadata": {
        "colab": {
          "base_uri": "https://localhost:8080/",
          "height": 363
        },
        "id": "STSUUR2czQ2V",
        "outputId": "80f3d9de-d95b-4f91-c896-71a9f6d0ad26"
      },
      "execution_count": 5,
      "outputs": [
        {
          "output_type": "execute_result",
          "data": {
            "text/plain": [
              "   cement  superplasticizer  age  csMPa\n",
              "0   540.0               2.5   28  79.99\n",
              "1   540.0               2.5   28  61.89\n",
              "2   332.5               0.0  270  40.27\n",
              "3   332.5               0.0  365  41.05\n",
              "4   198.6               0.0  360  44.30\n",
              "5   266.0               0.0   90  47.03\n",
              "6   380.0               0.0  365  43.70\n",
              "7   380.0               0.0   28  36.45\n",
              "8   266.0               0.0   28  45.85\n",
              "9   475.0               0.0   28  39.29"
            ],
            "text/html": [
              "\n",
              "  <div id=\"df-ec12bafe-6a42-47a4-963e-59b28fe5392c\">\n",
              "    <div class=\"colab-df-container\">\n",
              "      <div>\n",
              "<style scoped>\n",
              "    .dataframe tbody tr th:only-of-type {\n",
              "        vertical-align: middle;\n",
              "    }\n",
              "\n",
              "    .dataframe tbody tr th {\n",
              "        vertical-align: top;\n",
              "    }\n",
              "\n",
              "    .dataframe thead th {\n",
              "        text-align: right;\n",
              "    }\n",
              "</style>\n",
              "<table border=\"1\" class=\"dataframe\">\n",
              "  <thead>\n",
              "    <tr style=\"text-align: right;\">\n",
              "      <th></th>\n",
              "      <th>cement</th>\n",
              "      <th>superplasticizer</th>\n",
              "      <th>age</th>\n",
              "      <th>csMPa</th>\n",
              "    </tr>\n",
              "  </thead>\n",
              "  <tbody>\n",
              "    <tr>\n",
              "      <th>0</th>\n",
              "      <td>540.0</td>\n",
              "      <td>2.5</td>\n",
              "      <td>28</td>\n",
              "      <td>79.99</td>\n",
              "    </tr>\n",
              "    <tr>\n",
              "      <th>1</th>\n",
              "      <td>540.0</td>\n",
              "      <td>2.5</td>\n",
              "      <td>28</td>\n",
              "      <td>61.89</td>\n",
              "    </tr>\n",
              "    <tr>\n",
              "      <th>2</th>\n",
              "      <td>332.5</td>\n",
              "      <td>0.0</td>\n",
              "      <td>270</td>\n",
              "      <td>40.27</td>\n",
              "    </tr>\n",
              "    <tr>\n",
              "      <th>3</th>\n",
              "      <td>332.5</td>\n",
              "      <td>0.0</td>\n",
              "      <td>365</td>\n",
              "      <td>41.05</td>\n",
              "    </tr>\n",
              "    <tr>\n",
              "      <th>4</th>\n",
              "      <td>198.6</td>\n",
              "      <td>0.0</td>\n",
              "      <td>360</td>\n",
              "      <td>44.30</td>\n",
              "    </tr>\n",
              "    <tr>\n",
              "      <th>5</th>\n",
              "      <td>266.0</td>\n",
              "      <td>0.0</td>\n",
              "      <td>90</td>\n",
              "      <td>47.03</td>\n",
              "    </tr>\n",
              "    <tr>\n",
              "      <th>6</th>\n",
              "      <td>380.0</td>\n",
              "      <td>0.0</td>\n",
              "      <td>365</td>\n",
              "      <td>43.70</td>\n",
              "    </tr>\n",
              "    <tr>\n",
              "      <th>7</th>\n",
              "      <td>380.0</td>\n",
              "      <td>0.0</td>\n",
              "      <td>28</td>\n",
              "      <td>36.45</td>\n",
              "    </tr>\n",
              "    <tr>\n",
              "      <th>8</th>\n",
              "      <td>266.0</td>\n",
              "      <td>0.0</td>\n",
              "      <td>28</td>\n",
              "      <td>45.85</td>\n",
              "    </tr>\n",
              "    <tr>\n",
              "      <th>9</th>\n",
              "      <td>475.0</td>\n",
              "      <td>0.0</td>\n",
              "      <td>28</td>\n",
              "      <td>39.29</td>\n",
              "    </tr>\n",
              "  </tbody>\n",
              "</table>\n",
              "</div>\n",
              "      <button class=\"colab-df-convert\" onclick=\"convertToInteractive('df-ec12bafe-6a42-47a4-963e-59b28fe5392c')\"\n",
              "              title=\"Convert this dataframe to an interactive table.\"\n",
              "              style=\"display:none;\">\n",
              "        \n",
              "  <svg xmlns=\"http://www.w3.org/2000/svg\" height=\"24px\"viewBox=\"0 0 24 24\"\n",
              "       width=\"24px\">\n",
              "    <path d=\"M0 0h24v24H0V0z\" fill=\"none\"/>\n",
              "    <path d=\"M18.56 5.44l.94 2.06.94-2.06 2.06-.94-2.06-.94-.94-2.06-.94 2.06-2.06.94zm-11 1L8.5 8.5l.94-2.06 2.06-.94-2.06-.94L8.5 2.5l-.94 2.06-2.06.94zm10 10l.94 2.06.94-2.06 2.06-.94-2.06-.94-.94-2.06-.94 2.06-2.06.94z\"/><path d=\"M17.41 7.96l-1.37-1.37c-.4-.4-.92-.59-1.43-.59-.52 0-1.04.2-1.43.59L10.3 9.45l-7.72 7.72c-.78.78-.78 2.05 0 2.83L4 21.41c.39.39.9.59 1.41.59.51 0 1.02-.2 1.41-.59l7.78-7.78 2.81-2.81c.8-.78.8-2.07 0-2.86zM5.41 20L4 18.59l7.72-7.72 1.47 1.35L5.41 20z\"/>\n",
              "  </svg>\n",
              "      </button>\n",
              "      \n",
              "  <style>\n",
              "    .colab-df-container {\n",
              "      display:flex;\n",
              "      flex-wrap:wrap;\n",
              "      gap: 12px;\n",
              "    }\n",
              "\n",
              "    .colab-df-convert {\n",
              "      background-color: #E8F0FE;\n",
              "      border: none;\n",
              "      border-radius: 50%;\n",
              "      cursor: pointer;\n",
              "      display: none;\n",
              "      fill: #1967D2;\n",
              "      height: 32px;\n",
              "      padding: 0 0 0 0;\n",
              "      width: 32px;\n",
              "    }\n",
              "\n",
              "    .colab-df-convert:hover {\n",
              "      background-color: #E2EBFA;\n",
              "      box-shadow: 0px 1px 2px rgba(60, 64, 67, 0.3), 0px 1px 3px 1px rgba(60, 64, 67, 0.15);\n",
              "      fill: #174EA6;\n",
              "    }\n",
              "\n",
              "    [theme=dark] .colab-df-convert {\n",
              "      background-color: #3B4455;\n",
              "      fill: #D2E3FC;\n",
              "    }\n",
              "\n",
              "    [theme=dark] .colab-df-convert:hover {\n",
              "      background-color: #434B5C;\n",
              "      box-shadow: 0px 1px 3px 1px rgba(0, 0, 0, 0.15);\n",
              "      filter: drop-shadow(0px 1px 2px rgba(0, 0, 0, 0.3));\n",
              "      fill: #FFFFFF;\n",
              "    }\n",
              "  </style>\n",
              "\n",
              "      <script>\n",
              "        const buttonEl =\n",
              "          document.querySelector('#df-ec12bafe-6a42-47a4-963e-59b28fe5392c button.colab-df-convert');\n",
              "        buttonEl.style.display =\n",
              "          google.colab.kernel.accessAllowed ? 'block' : 'none';\n",
              "\n",
              "        async function convertToInteractive(key) {\n",
              "          const element = document.querySelector('#df-ec12bafe-6a42-47a4-963e-59b28fe5392c');\n",
              "          const dataTable =\n",
              "            await google.colab.kernel.invokeFunction('convertToInteractive',\n",
              "                                                     [key], {});\n",
              "          if (!dataTable) return;\n",
              "\n",
              "          const docLinkHtml = 'Like what you see? Visit the ' +\n",
              "            '<a target=\"_blank\" href=https://colab.research.google.com/notebooks/data_table.ipynb>data table notebook</a>'\n",
              "            + ' to learn more about interactive tables.';\n",
              "          element.innerHTML = '';\n",
              "          dataTable['output_type'] = 'display_data';\n",
              "          await google.colab.output.renderOutput(dataTable, element);\n",
              "          const docLink = document.createElement('div');\n",
              "          docLink.innerHTML = docLinkHtml;\n",
              "          element.appendChild(docLink);\n",
              "        }\n",
              "      </script>\n",
              "    </div>\n",
              "  </div>\n",
              "  "
            ]
          },
          "metadata": {},
          "execution_count": 5
        }
      ]
    },
    {
      "cell_type": "markdown",
      "source": [
        "Now, let's examine the relationship between each feature and the compressive strength of the sample."
      ],
      "metadata": {
        "id": "-sGXO_bl077M"
      }
    },
    {
      "cell_type": "code",
      "source": [
        "plt.scatter(df.cement, df.csMPa)\n",
        "plt.xlabel(\"Water\")\n",
        "plt.ylabel(\"Compressive Strength\")\n",
        "plt.show()"
      ],
      "metadata": {
        "colab": {
          "base_uri": "https://localhost:8080/",
          "height": 449
        },
        "id": "kSqxtcT508WW",
        "outputId": "4f214c2e-4158-430b-b12f-be17c7e6c4ea"
      },
      "execution_count": 6,
      "outputs": [
        {
          "output_type": "display_data",
          "data": {
            "text/plain": [
              "<Figure size 640x480 with 1 Axes>"
            ],
            "image/png": "[encoded data removed]"
          },
          "metadata": {}
        }
      ]
    },
    {
      "cell_type": "markdown",
      "source": [
        "### Step 5: Create train and test datasets\n",
        "In this section, we first assign the input features to X and the target variable to y. Next, we split the data into train and test sets using train_test_split from sklearn.model_selection.\n",
        "\n",
        "You can always adjust the test_size parameter as per your preference. In this code, we set `test_size=0.2`. Therefore, 20% of the data would be saved as the test dataset."
      ],
      "metadata": {
        "id": "pMRpJ_Pe1Qqq"
      }
    },
    {
      "cell_type": "code",
      "source": [
        "from sklearn.model_selection import train_test_split\n",
        "\n",
        "# Split the dataset into input features (X) and target variable (y)\n",
        "X = df.drop('csMPa', axis=1)\n",
        "y = df['csMPa']\n",
        "\n",
        "# Split the data into train and test sets\n",
        "X_train, X_test, y_train, y_test = train_test_split(X, y, test_size=0.2, random_state=42)"
      ],
      "metadata": {
        "id": "Slx1ybvs1QMf"
      },
      "execution_count": 7,
      "outputs": []
    },
    {
      "cell_type": "markdown",
      "source": [
        "### Step 6: Training the model\n",
        "Now let's move on to creating a multiple regression model and training it on the training dataset.\n",
        "\n",
        "We first import LinearRegression from sklearn.linear_model. We then create an instance of the linear regression model and assign it to the variable model. Finally, we fit the model to `'cement'`, `'superplasticizer'`, and `'age'` attributes and from training data and `y_train` using the fit method."
      ],
      "metadata": {
        "id": "es5tztO61oIz"
      }
    },
    {
      "cell_type": "code",
      "source": [
        "from sklearn.linear_model import LinearRegression\n",
        "\n",
        "# Create a linear regression model\n",
        "model = LinearRegression()\n",
        "\n",
        "# Fit the model to the training data\n",
        "model.fit(X_train[['cement', 'superplasticizer','age']], y_train)\n",
        "print ('Coefficients: ', model.coef_)"
      ],
      "metadata": {
        "colab": {
          "base_uri": "https://localhost:8080/"
        },
        "id": "1sxJCRw-2Q6O",
        "outputId": "4b7c46d2-6bed-4ae4-b903-45048d8bb64b"
      },
      "execution_count": 8,
      "outputs": [
        {
          "output_type": "stream",
          "name": "stdout",
          "text": [
            "Coefficients:  [0.06774193 1.0873851  0.10019339]\n"
          ]
        }
      ]
    },
    {
      "cell_type": "markdown",
      "source": [
        "As discussed before, Multiple Linear Regression is a statistical technique used to model the relationship between multiple independent variables and a dependent variable. The goal is to find coefficients that represent the effect of each predictor on the target variable.\n",
        "\n",
        "These coefficients are estimated using the Ordinary Least Squares (OLS) method, which minimizes the sum of squared differences between actual and predicted values. The coefficients indicate the change in the target variable for a one-unit change in each predictor, while holding other predictors constant.\n",
        "\n",
        "In the provided code, the LinearRegression model is fitted to the training data, and the coef_ attribute returns the coefficients for the predictors `'cement'`, `'superplasticizer'`, and `'age'`."
      ],
      "metadata": {
        "id": "m4f8bA8m9-cI"
      }
    },
    {
      "cell_type": "markdown",
      "source": [
        "### Step 7: Evaluation of the model\n",
        "Finally, let's evaluate the performance of our regression model.\n",
        "\n",
        "In order to assess the performance of our regression model, we calculate two evaluation metrics based on a comparison between the predicted values and the actual values from the test set.\n",
        "\n",
        "First, we calculate the coefficient of determination (R-squared) using the `r2_score `function from `sklearn.metrics`. R-squared measures the proportion of the variance in the dependent variable that is predictable from the independent variables. A higher R-squared value (closer to 1) indicates a better fit of the model to the data.\n",
        "\n",
        "Then, we calculate the mean squared error (MSE) using the `np.mean `function. MSE measures the average squared difference between the predicted and actual values. A lower MSE indicates a better fit of the model to the data.\n",
        "\n",
        "By calculating and examining these evaluation metrics, we gain insights into the accuracy and performance of our regression model."
      ],
      "metadata": {
        "id": "zxHEB7G4KSNW"
      }
    },
    {
      "cell_type": "code",
      "source": [
        "from sklearn.metrics import r2_score\n",
        "\n",
        "# Predict on the test data\n",
        "y_pred = model.predict(X_test[['cement', 'superplasticizer','age']])\n",
        "\n",
        "# Calculate Mean Squared Error (MSE)\n",
        "mse = np.mean((y_test - y_pred) ** 2)\n",
        "\n",
        "# Calculate R-squared (R2) score\n",
        "r2 = r2_score(y_test, y_pred)\n",
        "\n",
        "print('Mean Squared Error (MSE):%.3f' % mse)\n",
        "print('R-squared (R2) score:%.3f' %r2)"
      ],
      "metadata": {
        "colab": {
          "base_uri": "https://localhost:8080/"
        },
        "id": "EwA5lBAwLVVY",
        "outputId": "4ed2f563-0380-495f-95d9-c8de7e58805e"
      },
      "execution_count": 9,
      "outputs": [
        {
          "output_type": "stream",
          "name": "stdout",
          "text": [
            "Mean Squared Error (MSE):120.271\n",
            "R-squared (R2) score:0.533\n"
          ]
        }
      ]
    },
    {
      "cell_type": "markdown",
      "source": [
        "### **Conclusion**\n",
        "\n",
        "The multiple linear regression model provides valuable insights into the relationship between the selected predictors and the target variable. The model's performance can be further evaluated and improved using additional techniques, and consideration should be given to exploring other potential predictors to enhance the model's predictive power."
      ],
      "metadata": {
        "id": "aj_qHMZ4OCCS"
      }
    },
    {
      "cell_type": "markdown",
      "source": [
        "## Practice\n",
        "\n",
        "Try to train two multiple linear regression models with the same dataset, using these two sets of features:\n",
        "\n",
        "   - model1 trained based on: `X_train[['cement', 'water', 'superplasticizer','age']]` features.\n",
        "\n",
        "   - model2  trained based on: `X_train[['cement', 'coarseaggregate', 'superplasticizer','age']]` features.\n",
        "\n",
        "Calculate the evaluation metrics for these two models.\n",
        "\n",
        "Compare the evaluation metrics with the model that we trained above."
      ],
      "metadata": {
        "id": "s1kNEjHrOS7y"
      }
    },
    {
      "cell_type": "code",
      "source": [
        "# Create two linear regression models\n",
        "model1 = LinearRegression()\n",
        "model2 = LinearRegression()\n",
        "\n",
        "# Fit the models to their training data\n",
        "# YOUR CODE\n",
        "# YOUR CODE"
      ],
      "metadata": {
        "id": "yZZNaeLjQ4Ry"
      },
      "execution_count": null,
      "outputs": []
    },
    {
      "cell_type": "markdown",
      "source": [
        "<details><summary>Click here for the answer</summary>\n",
        "\n",
        "```python    \n",
        "# Create two linear regression models\n",
        "model1 = LinearRegression()\n",
        "model2 = LinearRegression()\n",
        "\n",
        "# Fit the models to their training data\n",
        "model1.fit(X_train[['cement', 'water', 'superplasticizer','age']], y_train)\n",
        "model2.fit(X_train[['cement', 'coarseaggregate', 'superplasticizer','age']], y_train)\n",
        "```\n",
        "\n",
        "</details>"
      ],
      "metadata": {
        "id": "LFbUNN0nWssf"
      }
    },
    {
      "cell_type": "markdown",
      "source": [
        "Now, obtain the predictions for both models by using the `predict` function and the selected features for each model in the test data."
      ],
      "metadata": {
        "id": "sdLuCfPCSp7f"
      }
    },
    {
      "cell_type": "code",
      "source": [
        "# Predict on the test data\n",
        "y_pred1 = # YOUR CODE\n",
        "y_pred2 = # YOUR CODE"
      ],
      "metadata": {
        "id": "TB2MXX1FSDGm"
      },
      "execution_count": null,
      "outputs": []
    },
    {
      "cell_type": "markdown",
      "source": [
        "<details><summary>Click here for the answer</summary>\n",
        "\n",
        "```python    \n",
        "# Predict on the test data\n",
        "y_pred1 = model1.predict(X_test[['cement', 'water', 'superplasticizer','age']])\n",
        "y_pred2 = model2.predict(X_test[['cement', 'coarseaggregate', 'superplasticizer','age']])\n",
        "```\n",
        "\n",
        "</details>"
      ],
      "metadata": {
        "id": "x7EkJcWKXAj5"
      }
    },
    {
      "cell_type": "markdown",
      "source": [
        "Lastly, calculate the two evaluation metrics by utilizing `y_pred1` and `y_pred2` and the `y_test` data.\n",
        "This can be done by applying the `np.mean` function to obtain the average of the differences between the true values and the predicted values."
      ],
      "metadata": {
        "id": "qBfdLLAqTGmK"
      }
    },
    {
      "cell_type": "code",
      "source": [
        "# Calculate Mean Squared Error (MSE) for both models:\n",
        "mse_model1 = # YOUR CODE\n",
        "mse_model2 = # YOUR CODE\n",
        "\n",
        "# Calculate R-squared (R2) score\n",
        "r2_model1 = # YOUR CODE\n",
        "r2_model2 = # YOUR CODE\n",
        "\n",
        "print('Mean Squared Error (MSE) of model1:%.3f' % mse_model1)\n",
        "print('R-squared (R2) score of model1:%.3f' %r2_model1)\n",
        "\n",
        "print('Mean Squared Error (MSE) of model2:%.3f' % mse_model2)\n",
        "print('R-squared (R2) score of model2:%.3f' %r2_model2)"
      ],
      "metadata": {
        "id": "KOPGi3R5Q4rE"
      },
      "execution_count": null,
      "outputs": []
    },
    {
      "cell_type": "markdown",
      "source": [
        "<details><summary>Click here for the answer</summary>\n",
        "\n",
        "```python    \n",
        "# Calculate Mean Squared Error (MSE) for both models:\n",
        "mse_model1 = np.mean((y_test - y_pred1) ** 2)\n",
        "mse_model2 = np.mean((y_test - y_pred2) ** 2)\n",
        "\n",
        "# Calculate R-squared (R2) score\n",
        "r2_model1 = r2_score(y_test, y_pred1)\n",
        "r2_model2 = r2_score(y_test, y_pred2)\n",
        "\n",
        "print('Mean Squared Error (MSE) of model1:%.3f' % mse_model1)\n",
        "print('R-squared (R2) score of model1:%.3f' %r2_model1)\n",
        "\n",
        "print('Mean Squared Error (MSE) of model2:%.3f' % mse_model2)\n",
        "print('R-squared (R2) score of model2:%.3f' %r2_model2)\n",
        "```\n",
        "\n",
        "</details>"
      ],
      "metadata": {
        "id": "C_LQsH6tXGA3"
      }
    },
    {
      "cell_type": "markdown",
      "source": [
        "You can see that adding a new feature to a multiple linear regression model can have **different impacts** on the model's performance. Factors such as correlation with the target variable, presence of multicollinearity, potential for overfitting or underfitting, and dataset characteristics influence the outcomes. Careful analysis and interpretation are essential to make informed decisions about feature selection in multiple linear regression models."
      ],
      "metadata": {
        "id": "5I6E2LaRU8H_"
      }
    },
    {
      "cell_type": "markdown",
      "source": [
        "### Thank you and good luck!"
      ],
      "metadata": {
        "id": "yJ5LsMWqU9cw"
      }
    }
  ]
}