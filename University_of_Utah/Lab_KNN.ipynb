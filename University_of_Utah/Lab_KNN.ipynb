{
  "nbformat": 4,
  "nbformat_minor": 0,
  "metadata": {
    "colab": {
      "provenance": []
    },
    "kernelspec": {
      "name": "python3",
      "display_name": "Python 3"
    },
    "language_info": {
      "name": "python"
    }
  },
  "cells": [
    {
      "cell_type": "markdown",
      "source": [
        "<center> <a href=\"https://github.com/CyConProject?tab=repositories\">\n",
        "  <img src=\"https://github.com/CyConProject/Lab/blob/main/Figures/CyCon.png?raw=true\" alt=\"logo\" width=\"80\" >\n",
        "</a>\n",
        " </center>\n",
        "\n",
        "# K-Nearest Neighbors\n",
        "\n",
        "In this lab, we'll dive into one of the fundamental algorithms, the k-Nearest Neighbors (k-NN) algorithm. Whether you're new to the field or looking to expand your knowledge, understanding k-NN is a crucial step in your journey.\n",
        "\n",
        "Imagine you're trying to categorize a plant as either a rose or a daffodil based on its features, or you're determining if a customer will like a certain product based on their past preferences. These are all classification tasks where the k-NN algorithm can come into play.\n",
        "\n",
        "At its core, k-NN is a simple yet powerful supervised machine learning algorithm used for classification and regression tasks. The main idea behind k-NN is that similar data points tend to have similar outcomes. It operates on the principle that if you're surrounded by like-minded neighbors, you're likely to share their preferences or characteristics.\n",
        "\n",
        "The concept is quite intuitive: to classify a new data point, the algorithm looks at the 'k' closest data points in the training dataset. These neighbors cast their votes, and the majority class or average value among them determines the classification or prediction for the new data point.\n",
        "\n",
        "### Objectives:\n",
        "\n",
        "Throughout this lab, we will explore the key components of the k-NN algorithm, including:\n",
        "\n",
        "- Scaling Features: Addressing the importance of feature scaling in ensuring all features contribute equally to the distance calculation.\n",
        "- Choosing 'k': Investigating the impact of choosing different values for 'k' and its effects on classification outcomes.\n",
        "- Distance Metrics: Understanding how to measure the similarity between data points using distance metrics like Euclidean distance or Manhattan distance.\n",
        "\n",
        "\n",
        "By the end of this lab, you'll not only understand how the k-NN algorithm works but also how to apply it to real-world construction research problems. So, let's roll up our sleeves and delve into the world of k-Nearest Neighbors!\n",
        "\n",
        "Remember, the k-NN algorithm forms the basis for more complex methods in machine learning, making it a fundamental concept to grasp. So, let's get started!"
      ],
      "metadata": {
        "id": "P5E9ZTmd2GiX"
      }
    },
    {
      "cell_type": "markdown",
      "source": [
        "### Step 1: Import necessary libraries"
      ],
      "metadata": {
        "id": "6k1pNLwFY5pb"
      }
    },
    {
      "cell_type": "code",
      "source": [
        "# Import necessary libraries\n",
        "import pandas as pd\n",
        "import numpy as np\n",
        "from sklearn.model_selection import train_test_split\n",
        "from sklearn.preprocessing import StandardScaler\n",
        "from sklearn.neighbors import KNeighborsClassifier\n",
        "from sklearn.metrics import accuracy_score, classification_report\n",
        "import matplotlib.pyplot as plt\n",
        "import warnings\n",
        "# To suppress all warnings\n",
        "warnings.filterwarnings(\"ignore\")"
      ],
      "metadata": {
        "id": "apj_lWxSY4IL"
      },
      "execution_count": 1,
      "outputs": []
    },
    {
      "cell_type": "markdown",
      "source": [
        "### Step 2: Load the dataset"
      ],
      "metadata": {
        "id": "1FdlE90maD5x"
      }
    },
    {
      "cell_type": "code",
      "execution_count": 2,
      "metadata": {
        "id": "AlWkZD2i1WSB",
        "colab": {
          "base_uri": "https://localhost:8080/",
          "height": 206
        },
        "outputId": "d9fb9e18-ffb4-46d5-b093-340f79212d82"
      },
      "outputs": [
        {
          "output_type": "execute_result",
          "data": {
            "text/plain": [
              "        RI     Na    Mg    Al     Si     K    Ca   Ba   Fe  Type\n",
              "0  1.52101  13.64  4.49  1.10  71.78  0.06  8.75  0.0  0.0     1\n",
              "1  1.51761  13.89  3.60  1.36  72.73  0.48  7.83  0.0  0.0     1\n",
              "2  1.51618  13.53  3.55  1.54  72.99  0.39  7.78  0.0  0.0     1\n",
              "3  1.51766  13.21  3.69  1.29  72.61  0.57  8.22  0.0  0.0     1\n",
              "4  1.51742  13.27  3.62  1.24  73.08  0.55  8.07  0.0  0.0     1"
            ],
            "text/html": [
              "\n",
              "  <div id=\"df-b3dc5335-7e15-4dcb-a86c-39bcd604079e\" class=\"colab-df-container\">\n",
              "    <div>\n",
              "<style scoped>\n",
              "    .dataframe tbody tr th:only-of-type {\n",
              "        vertical-align: middle;\n",
              "    }\n",
              "\n",
              "    .dataframe tbody tr th {\n",
              "        vertical-align: top;\n",
              "    }\n",
              "\n",
              "    .dataframe thead th {\n",
              "        text-align: right;\n",
              "    }\n",
              "</style>\n",
              "<table border=\"1\" class=\"dataframe\">\n",
              "  <thead>\n",
              "    <tr style=\"text-align: right;\">\n",
              "      <th></th>\n",
              "      <th>RI</th>\n",
              "      <th>Na</th>\n",
              "      <th>Mg</th>\n",
              "      <th>Al</th>\n",
              "      <th>Si</th>\n",
              "      <th>K</th>\n",
              "      <th>Ca</th>\n",
              "      <th>Ba</th>\n",
              "      <th>Fe</th>\n",
              "      <th>Type</th>\n",
              "    </tr>\n",
              "  </thead>\n",
              "  <tbody>\n",
              "    <tr>\n",
              "      <th>0</th>\n",
              "      <td>1.52101</td>\n",
              "      <td>13.64</td>\n",
              "      <td>4.49</td>\n",
              "      <td>1.10</td>\n",
              "      <td>71.78</td>\n",
              "      <td>0.06</td>\n",
              "      <td>8.75</td>\n",
              "      <td>0.0</td>\n",
              "      <td>0.0</td>\n",
              "      <td>1</td>\n",
              "    </tr>\n",
              "    <tr>\n",
              "      <th>1</th>\n",
              "      <td>1.51761</td>\n",
              "      <td>13.89</td>\n",
              "      <td>3.60</td>\n",
              "      <td>1.36</td>\n",
              "      <td>72.73</td>\n",
              "      <td>0.48</td>\n",
              "      <td>7.83</td>\n",
              "      <td>0.0</td>\n",
              "      <td>0.0</td>\n",
              "      <td>1</td>\n",
              "    </tr>\n",
              "    <tr>\n",
              "      <th>2</th>\n",
              "      <td>1.51618</td>\n",
              "      <td>13.53</td>\n",
              "      <td>3.55</td>\n",
              "      <td>1.54</td>\n",
              "      <td>72.99</td>\n",
              "      <td>0.39</td>\n",
              "      <td>7.78</td>\n",
              "      <td>0.0</td>\n",
              "      <td>0.0</td>\n",
              "      <td>1</td>\n",
              "    </tr>\n",
              "    <tr>\n",
              "      <th>3</th>\n",
              "      <td>1.51766</td>\n",
              "      <td>13.21</td>\n",
              "      <td>3.69</td>\n",
              "      <td>1.29</td>\n",
              "      <td>72.61</td>\n",
              "      <td>0.57</td>\n",
              "      <td>8.22</td>\n",
              "      <td>0.0</td>\n",
              "      <td>0.0</td>\n",
              "      <td>1</td>\n",
              "    </tr>\n",
              "    <tr>\n",
              "      <th>4</th>\n",
              "      <td>1.51742</td>\n",
              "      <td>13.27</td>\n",
              "      <td>3.62</td>\n",
              "      <td>1.24</td>\n",
              "      <td>73.08</td>\n",
              "      <td>0.55</td>\n",
              "      <td>8.07</td>\n",
              "      <td>0.0</td>\n",
              "      <td>0.0</td>\n",
              "      <td>1</td>\n",
              "    </tr>\n",
              "  </tbody>\n",
              "</table>\n",
              "</div>\n",
              "    <div class=\"colab-df-buttons\">\n",
              "\n",
              "  <div class=\"colab-df-container\">\n",
              "    <button class=\"colab-df-convert\" onclick=\"convertToInteractive('df-b3dc5335-7e15-4dcb-a86c-39bcd604079e')\"\n",
              "            title=\"Convert this dataframe to an interactive table.\"\n",
              "            style=\"display:none;\">\n",
              "\n",
              "  <svg xmlns=\"http://www.w3.org/2000/svg\" height=\"24px\" viewBox=\"0 -960 960 960\">\n",
              "    <path d=\"M120-120v-720h720v720H120Zm60-500h600v-160H180v160Zm220 220h160v-160H400v160Zm0 220h160v-160H400v160ZM180-400h160v-160H180v160Zm440 0h160v-160H620v160ZM180-180h160v-160H180v160Zm440 0h160v-160H620v160Z\"/>\n",
              "  </svg>\n",
              "    </button>\n",
              "\n",
              "  <style>\n",
              "    .colab-df-container {\n",
              "      display:flex;\n",
              "      gap: 12px;\n",
              "    }\n",
              "\n",
              "    .colab-df-convert {\n",
              "      background-color: #E8F0FE;\n",
              "      border: none;\n",
              "      border-radius: 50%;\n",
              "      cursor: pointer;\n",
              "      display: none;\n",
              "      fill: #1967D2;\n",
              "      height: 32px;\n",
              "      padding: 0 0 0 0;\n",
              "      width: 32px;\n",
              "    }\n",
              "\n",
              "    .colab-df-convert:hover {\n",
              "      background-color: #E2EBFA;\n",
              "      box-shadow: 0px 1px 2px rgba(60, 64, 67, 0.3), 0px 1px 3px 1px rgba(60, 64, 67, 0.15);\n",
              "      fill: #174EA6;\n",
              "    }\n",
              "\n",
              "    .colab-df-buttons div {\n",
              "      margin-bottom: 4px;\n",
              "    }\n",
              "\n",
              "    [theme=dark] .colab-df-convert {\n",
              "      background-color: #3B4455;\n",
              "      fill: #D2E3FC;\n",
              "    }\n",
              "\n",
              "    [theme=dark] .colab-df-convert:hover {\n",
              "      background-color: #434B5C;\n",
              "      box-shadow: 0px 1px 3px 1px rgba(0, 0, 0, 0.15);\n",
              "      filter: drop-shadow(0px 1px 2px rgba(0, 0, 0, 0.3));\n",
              "      fill: #FFFFFF;\n",
              "    }\n",
              "  </style>\n",
              "\n",
              "    <script>\n",
              "      const buttonEl =\n",
              "        document.querySelector('#df-b3dc5335-7e15-4dcb-a86c-39bcd604079e button.colab-df-convert');\n",
              "      buttonEl.style.display =\n",
              "        google.colab.kernel.accessAllowed ? 'block' : 'none';\n",
              "\n",
              "      async function convertToInteractive(key) {\n",
              "        const element = document.querySelector('#df-b3dc5335-7e15-4dcb-a86c-39bcd604079e');\n",
              "        const dataTable =\n",
              "          await google.colab.kernel.invokeFunction('convertToInteractive',\n",
              "                                                    [key], {});\n",
              "        if (!dataTable) return;\n",
              "\n",
              "        const docLinkHtml = 'Like what you see? Visit the ' +\n",
              "          '<a target=\"_blank\" href=https://colab.research.google.com/notebooks/data_table.ipynb>data table notebook</a>'\n",
              "          + ' to learn more about interactive tables.';\n",
              "        element.innerHTML = '';\n",
              "        dataTable['output_type'] = 'display_data';\n",
              "        await google.colab.output.renderOutput(dataTable, element);\n",
              "        const docLink = document.createElement('div');\n",
              "        docLink.innerHTML = docLinkHtml;\n",
              "        element.appendChild(docLink);\n",
              "      }\n",
              "    </script>\n",
              "  </div>\n",
              "\n",
              "\n",
              "<div id=\"df-b0081b0a-c652-4c56-bee0-c74f72e30de2\">\n",
              "  <button class=\"colab-df-quickchart\" onclick=\"quickchart('df-b0081b0a-c652-4c56-bee0-c74f72e30de2')\"\n",
              "            title=\"Suggest charts.\"\n",
              "            style=\"display:none;\">\n",
              "\n",
              "<svg xmlns=\"http://www.w3.org/2000/svg\" height=\"24px\"viewBox=\"0 0 24 24\"\n",
              "     width=\"24px\">\n",
              "    <g>\n",
              "        <path d=\"M19 3H5c-1.1 0-2 .9-2 2v14c0 1.1.9 2 2 2h14c1.1 0 2-.9 2-2V5c0-1.1-.9-2-2-2zM9 17H7v-7h2v7zm4 0h-2V7h2v10zm4 0h-2v-4h2v4z\"/>\n",
              "    </g>\n",
              "</svg>\n",
              "  </button>\n",
              "\n",
              "<style>\n",
              "  .colab-df-quickchart {\n",
              "      --bg-color: #E8F0FE;\n",
              "      --fill-color: #1967D2;\n",
              "      --hover-bg-color: #E2EBFA;\n",
              "      --hover-fill-color: #174EA6;\n",
              "      --disabled-fill-color: #AAA;\n",
              "      --disabled-bg-color: #DDD;\n",
              "  }\n",
              "\n",
              "  [theme=dark] .colab-df-quickchart {\n",
              "      --bg-color: #3B4455;\n",
              "      --fill-color: #D2E3FC;\n",
              "      --hover-bg-color: #434B5C;\n",
              "      --hover-fill-color: #FFFFFF;\n",
              "      --disabled-bg-color: #3B4455;\n",
              "      --disabled-fill-color: #666;\n",
              "  }\n",
              "\n",
              "  .colab-df-quickchart {\n",
              "    background-color: var(--bg-color);\n",
              "    border: none;\n",
              "    border-radius: 50%;\n",
              "    cursor: pointer;\n",
              "    display: none;\n",
              "    fill: var(--fill-color);\n",
              "    height: 32px;\n",
              "    padding: 0;\n",
              "    width: 32px;\n",
              "  }\n",
              "\n",
              "  .colab-df-quickchart:hover {\n",
              "    background-color: var(--hover-bg-color);\n",
              "    box-shadow: 0 1px 2px rgba(60, 64, 67, 0.3), 0 1px 3px 1px rgba(60, 64, 67, 0.15);\n",
              "    fill: var(--button-hover-fill-color);\n",
              "  }\n",
              "\n",
              "  .colab-df-quickchart-complete:disabled,\n",
              "  .colab-df-quickchart-complete:disabled:hover {\n",
              "    background-color: var(--disabled-bg-color);\n",
              "    fill: var(--disabled-fill-color);\n",
              "    box-shadow: none;\n",
              "  }\n",
              "\n",
              "  .colab-df-spinner {\n",
              "    border: 2px solid var(--fill-color);\n",
              "    border-color: transparent;\n",
              "    border-bottom-color: var(--fill-color);\n",
              "    animation:\n",
              "      spin 1s steps(1) infinite;\n",
              "  }\n",
              "\n",
              "  @keyframes spin {\n",
              "    0% {\n",
              "      border-color: transparent;\n",
              "      border-bottom-color: var(--fill-color);\n",
              "      border-left-color: var(--fill-color);\n",
              "    }\n",
              "    20% {\n",
              "      border-color: transparent;\n",
              "      border-left-color: var(--fill-color);\n",
              "      border-top-color: var(--fill-color);\n",
              "    }\n",
              "    30% {\n",
              "      border-color: transparent;\n",
              "      border-left-color: var(--fill-color);\n",
              "      border-top-color: var(--fill-color);\n",
              "      border-right-color: var(--fill-color);\n",
              "    }\n",
              "    40% {\n",
              "      border-color: transparent;\n",
              "      border-right-color: var(--fill-color);\n",
              "      border-top-color: var(--fill-color);\n",
              "    }\n",
              "    60% {\n",
              "      border-color: transparent;\n",
              "      border-right-color: var(--fill-color);\n",
              "    }\n",
              "    80% {\n",
              "      border-color: transparent;\n",
              "      border-right-color: var(--fill-color);\n",
              "      border-bottom-color: var(--fill-color);\n",
              "    }\n",
              "    90% {\n",
              "      border-color: transparent;\n",
              "      border-bottom-color: var(--fill-color);\n",
              "    }\n",
              "  }\n",
              "</style>\n",
              "\n",
              "  <script>\n",
              "    async function quickchart(key) {\n",
              "      const quickchartButtonEl =\n",
              "        document.querySelector('#' + key + ' button');\n",
              "      quickchartButtonEl.disabled = true;  // To prevent multiple clicks.\n",
              "      quickchartButtonEl.classList.add('colab-df-spinner');\n",
              "      try {\n",
              "        const charts = await google.colab.kernel.invokeFunction(\n",
              "            'suggestCharts', [key], {});\n",
              "      } catch (error) {\n",
              "        console.error('Error during call to suggestCharts:', error);\n",
              "      }\n",
              "      quickchartButtonEl.classList.remove('colab-df-spinner');\n",
              "      quickchartButtonEl.classList.add('colab-df-quickchart-complete');\n",
              "    }\n",
              "    (() => {\n",
              "      let quickchartButtonEl =\n",
              "        document.querySelector('#df-b0081b0a-c652-4c56-bee0-c74f72e30de2 button');\n",
              "      quickchartButtonEl.style.display =\n",
              "        google.colab.kernel.accessAllowed ? 'block' : 'none';\n",
              "    })();\n",
              "  </script>\n",
              "</div>\n",
              "    </div>\n",
              "  </div>\n"
            ]
          },
          "metadata": {},
          "execution_count": 2
        }
      ],
      "source": [
        "# Load the dataset\n",
        "url = 'https://raw.githubusercontent.com/CyConProject/Lab/main/Datasets/glass.csv'\n",
        "df = pd.read_csv(url)\n",
        "# Display the first few rows of the dataset to understand its structure\n",
        "df.head()"
      ]
    },
    {
      "cell_type": "markdown",
      "source": [
        "#### `glass.csv`:\n",
        "\n",
        "**Context:**\n",
        "This dataset, known as the \"Glass Identification Data Set\" from the UCI Machine Learning Repository, is used for classifying different types of glass based on their chemical composition. It's a common dataset in pattern recognition and machine learning.\n",
        "\n",
        "**Content:**\n",
        "The dataset consists of nine attributes, including the refractive index, sodium, magnesium, aluminum, silicon, potassium, calcium, barium, and iron content in glass. These attributes are used to predict the type or class of glass.\n",
        "\n",
        "**Type of Glass (Class Attribute):**\n",
        "The target variable is the \"Type of glass,\" which has seven discrete values representing various glass categories:\n",
        "\n",
        "1. Building Windows Float Processed\n",
        "2. Building Windows Non-Float Processed\n",
        "3. Vehicle Windows Float Processed\n",
        "4. Vehicle Windows Non-Float Processed (none in this database)\n",
        "5. Containers\n",
        "6. Tableware\n",
        "7. Headlamps\n",
        "\n",
        "This dataset is ideal for exploring classification techniques in construction research, where the goal is to identify the type of glass based on its chemical composition.\n",
        "\n",
        "[`Data source`](https://archive.ics.uci.edu/dataset/42/glass+identification)"
      ],
      "metadata": {
        "id": "kNgCHOvH6sFP"
      }
    },
    {
      "cell_type": "markdown",
      "source": [
        "### Step 3: Extracting Features and Target\n",
        "We extract the features (X) and the target variable (y) from the dataset. Features are all columns except 'Type,' while 'Type' represents the glass type we want to predict."
      ],
      "metadata": {
        "id": "q2NDLBJS6E59"
      }
    },
    {
      "cell_type": "code",
      "source": [
        "# Extract features (X) and target (y)\n",
        "X = df.iloc[:, 0:-1]  # Exclude 'Type' column\n",
        "y = df[\"Type\"]\n",
        "X.head()"
      ],
      "metadata": {
        "colab": {
          "base_uri": "https://localhost:8080/",
          "height": 206
        },
        "id": "vbehBgi36GB2",
        "outputId": "8d26d632-23c1-4572-cc4c-213fc77d02c6"
      },
      "execution_count": 3,
      "outputs": [
        {
          "output_type": "execute_result",
          "data": {
            "text/plain": [
              "        RI     Na    Mg    Al     Si     K    Ca   Ba   Fe\n",
              "0  1.52101  13.64  4.49  1.10  71.78  0.06  8.75  0.0  0.0\n",
              "1  1.51761  13.89  3.60  1.36  72.73  0.48  7.83  0.0  0.0\n",
              "2  1.51618  13.53  3.55  1.54  72.99  0.39  7.78  0.0  0.0\n",
              "3  1.51766  13.21  3.69  1.29  72.61  0.57  8.22  0.0  0.0\n",
              "4  1.51742  13.27  3.62  1.24  73.08  0.55  8.07  0.0  0.0"
            ],
            "text/html": [
              "\n",
              "  <div id=\"df-91247151-e444-4d36-9658-2a16f312c626\" class=\"colab-df-container\">\n",
              "    <div>\n",
              "<style scoped>\n",
              "    .dataframe tbody tr th:only-of-type {\n",
              "        vertical-align: middle;\n",
              "    }\n",
              "\n",
              "    .dataframe tbody tr th {\n",
              "        vertical-align: top;\n",
              "    }\n",
              "\n",
              "    .dataframe thead th {\n",
              "        text-align: right;\n",
              "    }\n",
              "</style>\n",
              "<table border=\"1\" class=\"dataframe\">\n",
              "  <thead>\n",
              "    <tr style=\"text-align: right;\">\n",
              "      <th></th>\n",
              "      <th>RI</th>\n",
              "      <th>Na</th>\n",
              "      <th>Mg</th>\n",
              "      <th>Al</th>\n",
              "      <th>Si</th>\n",
              "      <th>K</th>\n",
              "      <th>Ca</th>\n",
              "      <th>Ba</th>\n",
              "      <th>Fe</th>\n",
              "    </tr>\n",
              "  </thead>\n",
              "  <tbody>\n",
              "    <tr>\n",
              "      <th>0</th>\n",
              "      <td>1.52101</td>\n",
              "      <td>13.64</td>\n",
              "      <td>4.49</td>\n",
              "      <td>1.10</td>\n",
              "      <td>71.78</td>\n",
              "      <td>0.06</td>\n",
              "      <td>8.75</td>\n",
              "      <td>0.0</td>\n",
              "      <td>0.0</td>\n",
              "    </tr>\n",
              "    <tr>\n",
              "      <th>1</th>\n",
              "      <td>1.51761</td>\n",
              "      <td>13.89</td>\n",
              "      <td>3.60</td>\n",
              "      <td>1.36</td>\n",
              "      <td>72.73</td>\n",
              "      <td>0.48</td>\n",
              "      <td>7.83</td>\n",
              "      <td>0.0</td>\n",
              "      <td>0.0</td>\n",
              "    </tr>\n",
              "    <tr>\n",
              "      <th>2</th>\n",
              "      <td>1.51618</td>\n",
              "      <td>13.53</td>\n",
              "      <td>3.55</td>\n",
              "      <td>1.54</td>\n",
              "      <td>72.99</td>\n",
              "      <td>0.39</td>\n",
              "      <td>7.78</td>\n",
              "      <td>0.0</td>\n",
              "      <td>0.0</td>\n",
              "    </tr>\n",
              "    <tr>\n",
              "      <th>3</th>\n",
              "      <td>1.51766</td>\n",
              "      <td>13.21</td>\n",
              "      <td>3.69</td>\n",
              "      <td>1.29</td>\n",
              "      <td>72.61</td>\n",
              "      <td>0.57</td>\n",
              "      <td>8.22</td>\n",
              "      <td>0.0</td>\n",
              "      <td>0.0</td>\n",
              "    </tr>\n",
              "    <tr>\n",
              "      <th>4</th>\n",
              "      <td>1.51742</td>\n",
              "      <td>13.27</td>\n",
              "      <td>3.62</td>\n",
              "      <td>1.24</td>\n",
              "      <td>73.08</td>\n",
              "      <td>0.55</td>\n",
              "      <td>8.07</td>\n",
              "      <td>0.0</td>\n",
              "      <td>0.0</td>\n",
              "    </tr>\n",
              "  </tbody>\n",
              "</table>\n",
              "</div>\n",
              "    <div class=\"colab-df-buttons\">\n",
              "\n",
              "  <div class=\"colab-df-container\">\n",
              "    <button class=\"colab-df-convert\" onclick=\"convertToInteractive('df-91247151-e444-4d36-9658-2a16f312c626')\"\n",
              "            title=\"Convert this dataframe to an interactive table.\"\n",
              "            style=\"display:none;\">\n",
              "\n",
              "  <svg xmlns=\"http://www.w3.org/2000/svg\" height=\"24px\" viewBox=\"0 -960 960 960\">\n",
              "    <path d=\"M120-120v-720h720v720H120Zm60-500h600v-160H180v160Zm220 220h160v-160H400v160Zm0 220h160v-160H400v160ZM180-400h160v-160H180v160Zm440 0h160v-160H620v160ZM180-180h160v-160H180v160Zm440 0h160v-160H620v160Z\"/>\n",
              "  </svg>\n",
              "    </button>\n",
              "\n",
              "  <style>\n",
              "    .colab-df-container {\n",
              "      display:flex;\n",
              "      gap: 12px;\n",
              "    }\n",
              "\n",
              "    .colab-df-convert {\n",
              "      background-color: #E8F0FE;\n",
              "      border: none;\n",
              "      border-radius: 50%;\n",
              "      cursor: pointer;\n",
              "      display: none;\n",
              "      fill: #1967D2;\n",
              "      height: 32px;\n",
              "      padding: 0 0 0 0;\n",
              "      width: 32px;\n",
              "    }\n",
              "\n",
              "    .colab-df-convert:hover {\n",
              "      background-color: #E2EBFA;\n",
              "      box-shadow: 0px 1px 2px rgba(60, 64, 67, 0.3), 0px 1px 3px 1px rgba(60, 64, 67, 0.15);\n",
              "      fill: #174EA6;\n",
              "    }\n",
              "\n",
              "    .colab-df-buttons div {\n",
              "      margin-bottom: 4px;\n",
              "    }\n",
              "\n",
              "    [theme=dark] .colab-df-convert {\n",
              "      background-color: #3B4455;\n",
              "      fill: #D2E3FC;\n",
              "    }\n",
              "\n",
              "    [theme=dark] .colab-df-convert:hover {\n",
              "      background-color: #434B5C;\n",
              "      box-shadow: 0px 1px 3px 1px rgba(0, 0, 0, 0.15);\n",
              "      filter: drop-shadow(0px 1px 2px rgba(0, 0, 0, 0.3));\n",
              "      fill: #FFFFFF;\n",
              "    }\n",
              "  </style>\n",
              "\n",
              "    <script>\n",
              "      const buttonEl =\n",
              "        document.querySelector('#df-91247151-e444-4d36-9658-2a16f312c626 button.colab-df-convert');\n",
              "      buttonEl.style.display =\n",
              "        google.colab.kernel.accessAllowed ? 'block' : 'none';\n",
              "\n",
              "      async function convertToInteractive(key) {\n",
              "        const element = document.querySelector('#df-91247151-e444-4d36-9658-2a16f312c626');\n",
              "        const dataTable =\n",
              "          await google.colab.kernel.invokeFunction('convertToInteractive',\n",
              "                                                    [key], {});\n",
              "        if (!dataTable) return;\n",
              "\n",
              "        const docLinkHtml = 'Like what you see? Visit the ' +\n",
              "          '<a target=\"_blank\" href=https://colab.research.google.com/notebooks/data_table.ipynb>data table notebook</a>'\n",
              "          + ' to learn more about interactive tables.';\n",
              "        element.innerHTML = '';\n",
              "        dataTable['output_type'] = 'display_data';\n",
              "        await google.colab.output.renderOutput(dataTable, element);\n",
              "        const docLink = document.createElement('div');\n",
              "        docLink.innerHTML = docLinkHtml;\n",
              "        element.appendChild(docLink);\n",
              "      }\n",
              "    </script>\n",
              "  </div>\n",
              "\n",
              "\n",
              "<div id=\"df-993cc0f8-e5d8-44c0-b411-44c1c8e8b2d1\">\n",
              "  <button class=\"colab-df-quickchart\" onclick=\"quickchart('df-993cc0f8-e5d8-44c0-b411-44c1c8e8b2d1')\"\n",
              "            title=\"Suggest charts.\"\n",
              "            style=\"display:none;\">\n",
              "\n",
              "<svg xmlns=\"http://www.w3.org/2000/svg\" height=\"24px\"viewBox=\"0 0 24 24\"\n",
              "     width=\"24px\">\n",
              "    <g>\n",
              "        <path d=\"M19 3H5c-1.1 0-2 .9-2 2v14c0 1.1.9 2 2 2h14c1.1 0 2-.9 2-2V5c0-1.1-.9-2-2-2zM9 17H7v-7h2v7zm4 0h-2V7h2v10zm4 0h-2v-4h2v4z\"/>\n",
              "    </g>\n",
              "</svg>\n",
              "  </button>\n",
              "\n",
              "<style>\n",
              "  .colab-df-quickchart {\n",
              "      --bg-color: #E8F0FE;\n",
              "      --fill-color: #1967D2;\n",
              "      --hover-bg-color: #E2EBFA;\n",
              "      --hover-fill-color: #174EA6;\n",
              "      --disabled-fill-color: #AAA;\n",
              "      --disabled-bg-color: #DDD;\n",
              "  }\n",
              "\n",
              "  [theme=dark] .colab-df-quickchart {\n",
              "      --bg-color: #3B4455;\n",
              "      --fill-color: #D2E3FC;\n",
              "      --hover-bg-color: #434B5C;\n",
              "      --hover-fill-color: #FFFFFF;\n",
              "      --disabled-bg-color: #3B4455;\n",
              "      --disabled-fill-color: #666;\n",
              "  }\n",
              "\n",
              "  .colab-df-quickchart {\n",
              "    background-color: var(--bg-color);\n",
              "    border: none;\n",
              "    border-radius: 50%;\n",
              "    cursor: pointer;\n",
              "    display: none;\n",
              "    fill: var(--fill-color);\n",
              "    height: 32px;\n",
              "    padding: 0;\n",
              "    width: 32px;\n",
              "  }\n",
              "\n",
              "  .colab-df-quickchart:hover {\n",
              "    background-color: var(--hover-bg-color);\n",
              "    box-shadow: 0 1px 2px rgba(60, 64, 67, 0.3), 0 1px 3px 1px rgba(60, 64, 67, 0.15);\n",
              "    fill: var(--button-hover-fill-color);\n",
              "  }\n",
              "\n",
              "  .colab-df-quickchart-complete:disabled,\n",
              "  .colab-df-quickchart-complete:disabled:hover {\n",
              "    background-color: var(--disabled-bg-color);\n",
              "    fill: var(--disabled-fill-color);\n",
              "    box-shadow: none;\n",
              "  }\n",
              "\n",
              "  .colab-df-spinner {\n",
              "    border: 2px solid var(--fill-color);\n",
              "    border-color: transparent;\n",
              "    border-bottom-color: var(--fill-color);\n",
              "    animation:\n",
              "      spin 1s steps(1) infinite;\n",
              "  }\n",
              "\n",
              "  @keyframes spin {\n",
              "    0% {\n",
              "      border-color: transparent;\n",
              "      border-bottom-color: var(--fill-color);\n",
              "      border-left-color: var(--fill-color);\n",
              "    }\n",
              "    20% {\n",
              "      border-color: transparent;\n",
              "      border-left-color: var(--fill-color);\n",
              "      border-top-color: var(--fill-color);\n",
              "    }\n",
              "    30% {\n",
              "      border-color: transparent;\n",
              "      border-left-color: var(--fill-color);\n",
              "      border-top-color: var(--fill-color);\n",
              "      border-right-color: var(--fill-color);\n",
              "    }\n",
              "    40% {\n",
              "      border-color: transparent;\n",
              "      border-right-color: var(--fill-color);\n",
              "      border-top-color: var(--fill-color);\n",
              "    }\n",
              "    60% {\n",
              "      border-color: transparent;\n",
              "      border-right-color: var(--fill-color);\n",
              "    }\n",
              "    80% {\n",
              "      border-color: transparent;\n",
              "      border-right-color: var(--fill-color);\n",
              "      border-bottom-color: var(--fill-color);\n",
              "    }\n",
              "    90% {\n",
              "      border-color: transparent;\n",
              "      border-bottom-color: var(--fill-color);\n",
              "    }\n",
              "  }\n",
              "</style>\n",
              "\n",
              "  <script>\n",
              "    async function quickchart(key) {\n",
              "      const quickchartButtonEl =\n",
              "        document.querySelector('#' + key + ' button');\n",
              "      quickchartButtonEl.disabled = true;  // To prevent multiple clicks.\n",
              "      quickchartButtonEl.classList.add('colab-df-spinner');\n",
              "      try {\n",
              "        const charts = await google.colab.kernel.invokeFunction(\n",
              "            'suggestCharts', [key], {});\n",
              "      } catch (error) {\n",
              "        console.error('Error during call to suggestCharts:', error);\n",
              "      }\n",
              "      quickchartButtonEl.classList.remove('colab-df-spinner');\n",
              "      quickchartButtonEl.classList.add('colab-df-quickchart-complete');\n",
              "    }\n",
              "    (() => {\n",
              "      let quickchartButtonEl =\n",
              "        document.querySelector('#df-993cc0f8-e5d8-44c0-b411-44c1c8e8b2d1 button');\n",
              "      quickchartButtonEl.style.display =\n",
              "        google.colab.kernel.accessAllowed ? 'block' : 'none';\n",
              "    })();\n",
              "  </script>\n",
              "</div>\n",
              "    </div>\n",
              "  </div>\n"
            ]
          },
          "metadata": {},
          "execution_count": 3
        }
      ]
    },
    {
      "cell_type": "markdown",
      "source": [
        "### Step 4: Create train and test datasets\n",
        "We split the dataset into a training set and a testing set. In this example, we use a 70-30 split, with 70% of the data for training and 30% for testing. This helps us evaluate the model's performance on unseen data."
      ],
      "metadata": {
        "id": "ApBoNgrE62oI"
      }
    },
    {
      "cell_type": "code",
      "source": [
        "# Split the dataset into training and testing sets (70% training, 30% testing)\n",
        "X_train, X_test, y_train, y_test = train_test_split(X, y, test_size=0.3, random_state=42)"
      ],
      "metadata": {
        "id": "c7zNhGLO40_K"
      },
      "execution_count": 4,
      "outputs": []
    },
    {
      "cell_type": "markdown",
      "source": [
        "### Step 5: Standardizing Features\n",
        "Feature scaling is performed using StandardScaler, which standardizes features to have a mean of 0 and a standard deviation of 1. This step is essential for k-NN, as it relies on distance metrics, and scaling ensures all features contribute equally."
      ],
      "metadata": {
        "id": "y38H8H-M7ZAe"
      }
    },
    {
      "cell_type": "code",
      "source": [
        "# Standardize features to have mean=0 and std=1\n",
        "scaler = StandardScaler()\n",
        "X_train = scaler.fit_transform(X_train)\n",
        "X_test = scaler.transform(X_test)\n",
        "X_train[:5]"
      ],
      "metadata": {
        "colab": {
          "base_uri": "https://localhost:8080/"
        },
        "id": "WI9rCAKm7ceQ",
        "outputId": "a5f8cbce-76f4-4d22-cffe-73041df118c7"
      },
      "execution_count": 5,
      "outputs": [
        {
          "output_type": "execute_result",
          "data": {
            "text/plain": [
              "array([[-0.46437783, -0.63126753,  0.60181332,  0.29373102,  0.46755793,\n",
              "         0.18694211, -0.57906152, -0.34220777, -0.56134932],\n",
              "       [ 0.78919945,  0.38134302,  0.58026489, -0.65267288, -0.79131687,\n",
              "        -0.70439787,  0.32531334, -0.34220777, -0.56134932],\n",
              "       [ 1.18659637,  1.31800777, -1.99836346, -0.90504725,  0.10248424,\n",
              "        -0.68725671,  1.81157281, -0.34220777,  0.2506997 ],\n",
              "       [ 0.10748603,  2.02683515, -1.43810437,  0.65126139, -0.11152448,\n",
              "        -0.85866825,  0.71089953, -0.34220777, -0.56134932],\n",
              "       [-0.34806653, -0.69455569,  0.51561962, -0.61061048,  0.85780912,\n",
              "         0.10123634, -0.27059257, -0.34220777, -0.56134932]])"
            ]
          },
          "metadata": {},
          "execution_count": 5
        }
      ]
    },
    {
      "cell_type": "markdown",
      "source": [
        "### Step 6: Initializing and Training the k-NN Classifier\n",
        "We initialize the k-NN classifier with a specified value of 'k' (in this case, k=3). Then, we train the classifier on the training data."
      ],
      "metadata": {
        "id": "TQ-u4woqPnaX"
      }
    },
    {
      "cell_type": "code",
      "source": [
        "# Initialize the k-NN classifier (let's choose k=3 as an example)\n",
        "k = 3\n",
        "knn_classifier = KNeighborsClassifier(n_neighbors=k)\n",
        "\n",
        "# Train the k-NN classifier on the training data\n",
        "knn_classifier.fit(X_train, y_train)"
      ],
      "metadata": {
        "colab": {
          "base_uri": "https://localhost:8080/",
          "height": 75
        },
        "id": "x0Zt9x2w7t2t",
        "outputId": "46580276-8f04-4d90-b5f4-6949baa09981"
      },
      "execution_count": 6,
      "outputs": [
        {
          "output_type": "execute_result",
          "data": {
            "text/plain": [
              "KNeighborsClassifier(n_neighbors=3)"
            ],
            "text/html": [
              "<style>#sk-container-id-1 {color: black;background-color: white;}#sk-container-id-1 pre{padding: 0;}#sk-container-id-1 div.sk-toggleable {background-color: white;}#sk-container-id-1 label.sk-toggleable__label {cursor: pointer;display: block;width: 100%;margin-bottom: 0;padding: 0.3em;box-sizing: border-box;text-align: center;}#sk-container-id-1 label.sk-toggleable__label-arrow:before {content: \"▸\";float: left;margin-right: 0.25em;color: #696969;}#sk-container-id-1 label.sk-toggleable__label-arrow:hover:before {color: black;}#sk-container-id-1 div.sk-estimator:hover label.sk-toggleable__label-arrow:before {color: black;}#sk-container-id-1 div.sk-toggleable__content {max-height: 0;max-width: 0;overflow: hidden;text-align: left;background-color: #f0f8ff;}#sk-container-id-1 div.sk-toggleable__content pre {margin: 0.2em;color: black;border-radius: 0.25em;background-color: #f0f8ff;}#sk-container-id-1 input.sk-toggleable__control:checked~div.sk-toggleable__content {max-height: 200px;max-width: 100%;overflow: auto;}#sk-container-id-1 input.sk-toggleable__control:checked~label.sk-toggleable__label-arrow:before {content: \"▾\";}#sk-container-id-1 div.sk-estimator input.sk-toggleable__control:checked~label.sk-toggleable__label {background-color: #d4ebff;}#sk-container-id-1 div.sk-label input.sk-toggleable__control:checked~label.sk-toggleable__label {background-color: #d4ebff;}#sk-container-id-1 input.sk-hidden--visually {border: 0;clip: rect(1px 1px 1px 1px);clip: rect(1px, 1px, 1px, 1px);height: 1px;margin: -1px;overflow: hidden;padding: 0;position: absolute;width: 1px;}#sk-container-id-1 div.sk-estimator {font-family: monospace;background-color: #f0f8ff;border: 1px dotted black;border-radius: 0.25em;box-sizing: border-box;margin-bottom: 0.5em;}#sk-container-id-1 div.sk-estimator:hover {background-color: #d4ebff;}#sk-container-id-1 div.sk-parallel-item::after {content: \"\";width: 100%;border-bottom: 1px solid gray;flex-grow: 1;}#sk-container-id-1 div.sk-label:hover label.sk-toggleable__label {background-color: #d4ebff;}#sk-container-id-1 div.sk-serial::before {content: \"\";position: absolute;border-left: 1px solid gray;box-sizing: border-box;top: 0;bottom: 0;left: 50%;z-index: 0;}#sk-container-id-1 div.sk-serial {display: flex;flex-direction: column;align-items: center;background-color: white;padding-right: 0.2em;padding-left: 0.2em;position: relative;}#sk-container-id-1 div.sk-item {position: relative;z-index: 1;}#sk-container-id-1 div.sk-parallel {display: flex;align-items: stretch;justify-content: center;background-color: white;position: relative;}#sk-container-id-1 div.sk-item::before, #sk-container-id-1 div.sk-parallel-item::before {content: \"\";position: absolute;border-left: 1px solid gray;box-sizing: border-box;top: 0;bottom: 0;left: 50%;z-index: -1;}#sk-container-id-1 div.sk-parallel-item {display: flex;flex-direction: column;z-index: 1;position: relative;background-color: white;}#sk-container-id-1 div.sk-parallel-item:first-child::after {align-self: flex-end;width: 50%;}#sk-container-id-1 div.sk-parallel-item:last-child::after {align-self: flex-start;width: 50%;}#sk-container-id-1 div.sk-parallel-item:only-child::after {width: 0;}#sk-container-id-1 div.sk-dashed-wrapped {border: 1px dashed gray;margin: 0 0.4em 0.5em 0.4em;box-sizing: border-box;padding-bottom: 0.4em;background-color: white;}#sk-container-id-1 div.sk-label label {font-family: monospace;font-weight: bold;display: inline-block;line-height: 1.2em;}#sk-container-id-1 div.sk-label-container {text-align: center;}#sk-container-id-1 div.sk-container {/* jupyter's `normalize.less` sets `[hidden] { display: none; }` but bootstrap.min.css set `[hidden] { display: none !important; }` so we also need the `!important` here to be able to override the default hidden behavior on the sphinx rendered scikit-learn.org. See: https://github.com/scikit-learn/scikit-learn/issues/21755 */display: inline-block !important;position: relative;}#sk-container-id-1 div.sk-text-repr-fallback {display: none;}</style><div id=\"sk-container-id-1\" class=\"sk-top-container\"><div class=\"sk-text-repr-fallback\"><pre>KNeighborsClassifier(n_neighbors=3)</pre><b>In a Jupyter environment, please rerun this cell to show the HTML representation or trust the notebook. <br />On GitHub, the HTML representation is unable to render, please try loading this page with nbviewer.org.</b></div><div class=\"sk-container\" hidden><div class=\"sk-item\"><div class=\"sk-estimator sk-toggleable\"><input class=\"sk-toggleable__control sk-hidden--visually\" id=\"sk-estimator-id-1\" type=\"checkbox\" checked><label for=\"sk-estimator-id-1\" class=\"sk-toggleable__label sk-toggleable__label-arrow\">KNeighborsClassifier</label><div class=\"sk-toggleable__content\"><pre>KNeighborsClassifier(n_neighbors=3)</pre></div></div></div></div></div>"
            ]
          },
          "metadata": {},
          "execution_count": 6
        }
      ]
    },
    {
      "cell_type": "markdown",
      "source": [
        "### Step 7: Making Predictions\n",
        "We use the trained k-NN classifier to make predictions on the testing data."
      ],
      "metadata": {
        "id": "tBmR8OCyPz74"
      }
    },
    {
      "cell_type": "code",
      "source": [
        "# Make predictions on the testing data\n",
        "y_pred = knn_classifier.predict(X_test)\n",
        "print(y_pred[:5])\n",
        "print(y_test[:5])"
      ],
      "metadata": {
        "colab": {
          "base_uri": "https://localhost:8080/"
        },
        "id": "aDYVoXLeP4Io",
        "outputId": "993d2629-4a89-40ad-ed82-591fae424b20"
      },
      "execution_count": 7,
      "outputs": [
        {
          "output_type": "stream",
          "name": "stdout",
          "text": [
            "[1 7 1 7 2]\n",
            "9      1\n",
            "197    7\n",
            "66     1\n",
            "191    7\n",
            "117    2\n",
            "Name: Type, dtype: int64\n"
          ]
        }
      ]
    },
    {
      "cell_type": "markdown",
      "source": [
        "### Step 8: Evaluating the Model\n",
        "Finally, we evaluate the model's performance by calculating accuracy and generating a classification report, which provides detailed metrics such as precision, recall, and F1-score for each class."
      ],
      "metadata": {
        "id": "g7hXOF4qXytI"
      }
    },
    {
      "cell_type": "code",
      "source": [
        "# Evaluate the performance of the classifier\n",
        "accuracy = accuracy_score(y_test, y_pred)\n",
        "classification_rep = classification_report(y_test, y_pred)\n",
        "\n",
        "# Display the results\n",
        "print(f\"Accuracy of the k-NN classifier (k={k}): {accuracy:.2f}\")\n",
        "print(\"Classification Report:\\n\", classification_rep)"
      ],
      "metadata": {
        "colab": {
          "base_uri": "https://localhost:8080/"
        },
        "id": "cZkjOy3CXA9a",
        "outputId": "d8c782c5-e8b4-4902-9ff7-c26446abf2c8"
      },
      "execution_count": 8,
      "outputs": [
        {
          "output_type": "stream",
          "name": "stdout",
          "text": [
            "Accuracy of the k-NN classifier (k=3): 0.65\n",
            "Classification Report:\n",
            "               precision    recall  f1-score   support\n",
            "\n",
            "           1       0.58      0.79      0.67        19\n",
            "           2       0.58      0.61      0.60        23\n",
            "           3       0.00      0.00      0.00         4\n",
            "           5       1.00      0.33      0.50         6\n",
            "           6       0.60      1.00      0.75         3\n",
            "           7       1.00      0.80      0.89        10\n",
            "\n",
            "    accuracy                           0.65        65\n",
            "   macro avg       0.63      0.59      0.57        65\n",
            "weighted avg       0.65      0.65      0.62        65\n",
            "\n"
          ]
        }
      ]
    },
    {
      "cell_type": "markdown",
      "source": [
        "#### **Interpretation of the results**\n",
        "\n",
        "- **Accuracy of the k-NN classifier (k=3): 0.65**\n",
        "\n",
        "The accuracy score of the classifier is 0.65, which means that the model correctly classified approximately 65% of the samples in the test dataset.\n",
        "\n",
        "- **Classification Report:**\n",
        "\n",
        "The classification report provides more detailed information about the model's performance for each class. For example:\n",
        "\n",
        "Class 1 (Building Windows Float Processed):\n",
        "\n",
        "> Precision: 0.58, Recall: 0.79, F1-Score: 0.67, Support: 19\n",
        "\n",
        "**Interpretation:** For class 1, the classifier achieved a precision of 0.58, meaning that 58% of the samples predicted as class 1 were correct. The recall of 0.79 indicates that 79% of the actual class 1 samples were correctly classified. The F1-score, which is the harmonic mean of precision and recall, is 0.67.\n",
        "\n",
        "- **Overall Summary (Macro and Weighted Averages):**\n",
        "\n",
        "The macro-average F1-score, which considers the unweighted average of class-specific F1-scores, is approximately 0.57.\n",
        "\n",
        "The weighted-average F1-score, which takes into account class support (number of samples), is approximately 0.62.\n",
        "\n",
        "These metrics provide an overall summary of the model's performance across all classes.\n",
        "\n",
        "\n",
        "In summary, the k-NN classifier with k=3 achieved an accuracy of 65% on the test dataset. The classifier performed well for some classes (e.g., class 7, \"Headlamps\") but less so for others (e.g., class 3, \"Vehicle Windows Float Processed\"). The choice of k and the dataset's characteristics may influence the performance, and further experimentation or fine-tuning may be needed to improve classification results for specific classes."
      ],
      "metadata": {
        "id": "G05DuBAybn3p"
      }
    },
    {
      "cell_type": "markdown",
      "source": [
        "### Why the value of k is important?\n",
        "  <img src=\"https://www.kdnuggets.com/wp-content/uploads/popular-knn-metrics-0.png\">\n",
        "\n",
        "\n",
        "Photo by Sarang Anil Gotke on [Kdnuggets](https://www.kdnuggets.com/2020/11/most-popular-distance-metrics-knn.html)\n",
        "\n",
        "Here is a visual representation demonstrating the operation of the K-Nearest Neighbors (KNN) algorithm.\n",
        "In the given scenario, a set of data points belonging to Class A and B are depicted. The objective is to predict the classification of a new sample. If the k value is selected to be 3, indicating the three closest data points, the prediction generated aligns with Class B. However, with an increased k value of 7, the prediction shifts to Class A."
      ],
      "metadata": {
        "id": "ve8sjFSPSWq1"
      }
    },
    {
      "cell_type": "markdown",
      "source": [
        "## Practice\n",
        "\n",
        "Let's examine the evaluation metrics obtained when training a KNN model with a k=6."
      ],
      "metadata": {
        "id": "ZA5fokIifXKf"
      }
    },
    {
      "cell_type": "code",
      "source": [
        "# Your Code Here\n"
      ],
      "metadata": {
        "id": "jT74YwUUflWR"
      },
      "execution_count": 9,
      "outputs": []
    },
    {
      "cell_type": "markdown",
      "source": [
        "<details><summary>Click here for the answer</summary>\n",
        "\n",
        "```python    \n",
        "# Initialize the k-NN classifier (with k=6)\n",
        "k = 6\n",
        "knn_classifier = KNeighborsClassifier(n_neighbors=k)\n",
        "\n",
        "# Train the k-NN classifier on the training data\n",
        "knn_classifier.fit(X_train, y_train)\n",
        "\n",
        "# Make predictions on the testing data\n",
        "y_pred = knn_classifier.predict(X_test)\n",
        "\n",
        "# Evaluate the performance of the classifier\n",
        "accuracy = accuracy_score(y_test, y_pred)\n",
        "classification_rep = classification_report(y_test, y_pred)\n",
        "\n",
        "# Display the results\n",
        "print(f\"Accuracy of the k-NN classifier (k={k}): {accuracy:.2f}\")\n",
        "print(\"Classification Report:\\n\", classification_rep)\n",
        "```\n",
        "\n",
        "</details>"
      ],
      "metadata": {
        "id": "eSlJuJ6LfnKE"
      }
    },
    {
      "cell_type": "markdown",
      "source": [
        "# Why Test Different k Values?\n",
        "\n",
        "1. **Bias-Variance Trade-off**: The value of k influences the model's bias and variance. Smaller values of k (e.g., k=1) tend to produce low bias but high variance models, making them sensitive to noise in the data. Larger values of k (e.g., k=20) result in higher bias but lower variance models, which might oversmooth decision boundaries. By testing multiple k values, you can strike a balance between these trade-offs.\n",
        "\n",
        "2. **Generalization**: Different datasets and classification tasks may require different k values for optimal performance. Testing various k values helps you find the one that generalizes well to unseen data, improving the model's robustness.\n",
        "\n",
        "3. **Domain-Specific Considerations**: In some cases, domain knowledge may guide the selection of an appropriate k value. For example, if you know that similar glass types exhibit consistent chemical patterns, you may choose a smaller k for finer-grained classification.\n",
        "\n",
        "**Visualizing the Relationship**\n",
        "\n",
        "One way to gain insights into the impact of k values is to visualize the relationship between k and accuracy. Here, we plotted k-values against their corresponding accuracies, allowing you to observe how the accuracy changes with different k values.\n",
        "\n",
        "Your Experimentation Matters\n",
        "\n",
        "As you work with k-NN or any machine learning algorithm, remember that experimentation is key. Testing different k values is just one example of how you can fine-tune your models to achieve the best results for your specific problem. Feel free to explore and experiment with various parameters, distance metrics, and preprocessing techniques (we will learn more about them in the future) to optimize your models.\n"
      ],
      "metadata": {
        "id": "NA0QbkLyo0Ab"
      }
    },
    {
      "cell_type": "code",
      "source": [
        "# Initialize lists to store k values and their corresponding accuracies\n",
        "k_values = []\n",
        "accuracies = []\n",
        "\n",
        "# Test different values of k from 1 to 20\n",
        "for k in range(1, 21):\n",
        "    knn_classifier = KNeighborsClassifier(n_neighbors=k)\n",
        "    knn_classifier.fit(X_train, y_train)\n",
        "    y_pred = knn_classifier.predict(X_test)\n",
        "    accuracy = accuracy_score(y_test, y_pred)\n",
        "\n",
        "    # Append k and accuracy to the lists\n",
        "    k_values.append(k)\n",
        "    accuracies.append(accuracy)\n",
        "\n",
        "# Plot k-values vs. accuracies\n",
        "plt.figure(figsize=(10, 6))\n",
        "plt.plot(k_values, accuracies, marker='o', linestyle='-', color='b')\n",
        "plt.title('k-NN Classifier Accuracy vs. k')\n",
        "plt.xlabel('Number of Neighbors (k)')\n",
        "plt.ylabel('Accuracy')\n",
        "plt.grid(True)\n",
        "plt.xticks(np.arange(1, 21, 1))\n",
        "plt.show()"
      ],
      "metadata": {
        "colab": {
          "base_uri": "https://localhost:8080/",
          "height": 564
        },
        "id": "lWoPWG_EnIoU",
        "outputId": "4381767e-149c-4995-d9ba-e2f834eecf95"
      },
      "execution_count": 10,
      "outputs": [
        {
          "output_type": "display_data",
          "data": {
            "text/plain": [
              "<Figure size 1000x600 with 1 Axes>"
            ],
            "image/png": "[encoded data removed]"
          },
          "metadata": {}
        }
      ]
    },
    {
      "cell_type": "markdown",
      "source": [
        "It's essential to consider the trade-off between bias and variance when selecting the value of k. In this case, k values between 4 and 12 seem to provide relatively stable and reasonable accuracy, considering the limited dataset size. However, further exploration and possibly cross-validation could help identify the optimal k for this specific dataset. Additionally, with only 214 instances, achieving high accuracy can be challenging, and the choice of features and preprocessing techniques also plays a critical role in model performance."
      ],
      "metadata": {
        "id": "1S07TDYKzjEL"
      }
    },
    {
      "cell_type": "markdown",
      "source": [
        "# Cross-validation to find the best K\n",
        "\n",
        "Cross-validation is a valuable technique for finding the best value of k for a k-Nearest Neighbors (k-NN) classifier. It involves splitting the dataset into multiple subsets, training and testing the model on different combinations, and then evaluating the model's performance to find the optimal hyperparameter. Here's how you can perform cross-validation to find the best k:"
      ],
      "metadata": {
        "id": "BAOnYL_G1IAt"
      }
    },
    {
      "cell_type": "code",
      "source": [
        "from sklearn.model_selection import cross_val_score\n",
        "# Initialize lists to store k values and their corresponding mean accuracies\n",
        "k_values = list(range(1, 21))\n",
        "mean_accuracies = []\n",
        "\n",
        "# Perform 10-fold cross-validation for each k\n",
        "for k in k_values:\n",
        "    knn_classifier = KNeighborsClassifier(n_neighbors=k)\n",
        "    # Use cross_val_score to perform 10-fold cross-validation\n",
        "    scores = cross_val_score(knn_classifier, X_train, y_train, cv=10)\n",
        "    mean_accuracy = np.mean(scores)\n",
        "    mean_accuracies.append(mean_accuracy)\n",
        "\n",
        "# Find the best k based on cross-validation\n",
        "best_k = k_values[np.argmax(mean_accuracies)]\n",
        "best_accuracy = max(mean_accuracies)\n",
        "\n",
        "# Plot k-values vs. mean accuracies\n",
        "plt.figure(figsize=(10, 6))\n",
        "plt.plot(k_values, mean_accuracies, marker='o', linestyle='-', color='b')\n",
        "plt.title('Cross-Validation: k-NN Classifier Mean Accuracy vs. k')\n",
        "plt.xlabel('Number of Neighbors (k)')\n",
        "plt.ylabel('Mean Accuracy')\n",
        "plt.grid(True)\n",
        "plt.xticks(np.arange(1, 21, 1))\n",
        "plt.show()\n",
        "\n",
        "print(f\"Best k based on cross-validation: k={best_k}\")\n",
        "print(f\"Highest mean accuracy achieved: {best_accuracy:.2f}\")\n"
      ],
      "metadata": {
        "colab": {
          "base_uri": "https://localhost:8080/",
          "height": 599
        },
        "id": "2hLE8pd81LFU",
        "outputId": "9342aa61-5ad9-4ff6-f0d9-596a06267030"
      },
      "execution_count": 11,
      "outputs": [
        {
          "output_type": "display_data",
          "data": {
            "text/plain": [
              "<Figure size 1000x600 with 1 Axes>"
            ],
            "image/png": "[encoded data removed]"
          },
          "metadata": {}
        },
        {
          "output_type": "stream",
          "name": "stdout",
          "text": [
            "Best k based on cross-validation: k=1\n",
            "Highest mean accuracy achieved: 0.70\n"
          ]
        }
      ]
    },
    {
      "cell_type": "markdown",
      "source": [
        "# Distance Metrics\n",
        "\n",
        "Distance metrics play a crucial role in the k-Nearest Neighbors (k-NN) algorithm. They determine how \"close\" or \"similar\" two data points are in feature space. The choice of distance metric can significantly impact the k-NN classifier's performance. In this section, we'll explore two common distance metrics: Euclidean distance and Manhattan distance.\n",
        "\n",
        "#### **Euclidean Distance:**\n",
        "\n",
        "\n",
        "> Euclidean distance is the most common distance metric used in k-NN. It measures the straight-line distance between two points in Euclidean space. For two points, $(x_1 , y_1)$ and $(x_2 , y_2)$, the Euclidean distance is calculated as: $$Euclidean Distance= \\sqrt{(x_2-x_1)^2 + (y_2-y_1)^2 }$$\n",
        "In a multi-dimensional space, the formula extends to:\n",
        "$$Euclidean Distance= \\sqrt{\\sum_{i=1}^{n} (x_{2i}-x_{1i})^2 }$$\n",
        "Euclidean distance is sensitive to differences along all dimensions and is commonly used for continuous data.\n",
        "\n",
        "#### **Manhattan Distance:**\n",
        "\n",
        "> Manhattan distance, also known as the \"city block\" distance, measures the distance between two points by summing the absolute differences along each dimension. For two points, $(x_1 , y_1)$ and $(x_2 , y_2)$, the Manhattan distance is calculated as:\n",
        "$$Manhattan Distance= {|x_2-x_1| + |y_2-y_1|}$$\n",
        "In a multi-dimensional space, the formula extends to:\n",
        "$$Manhattan Distance= \\sum_{i=1}^{n} |x_{2i}-x_{1i}| $$\n",
        "Manhattan distance is less sensitive to outliers and can be more appropriate for discrete or categorical data.\n",
        "\n",
        "### **Now, let's change the distance metrics in our model.**\n",
        "\n",
        "Let's modify our k-NN classifier to use both Euclidean and Manhattan distances. We'll compare their performance on the glass dataset. Then, we'll visualize the decision boundaries to see the impact of the distance metric on classification."
      ],
      "metadata": {
        "id": "03nJEhUu__Is"
      }
    },
    {
      "cell_type": "code",
      "source": [
        "# Initialize lists to store classification reports\n",
        "reports_euclidean = []\n",
        "reports_manhattan = []\n",
        "\n",
        "# Test different values of k from 1 to 20 with both distance metrics\n",
        "for k in range(1, 21):\n",
        "    knn_euclidean = KNeighborsClassifier(n_neighbors=k, metric='euclidean')\n",
        "    knn_manhattan = KNeighborsClassifier(n_neighbors=k, metric='manhattan')\n",
        "\n",
        "    knn_euclidean.fit(X_train, y_train)\n",
        "    knn_manhattan.fit(X_train, y_train)\n",
        "\n",
        "    y_pred_euclidean = knn_euclidean.predict(X_test)\n",
        "    y_pred_manhattan = knn_manhattan.predict(X_test)\n",
        "\n",
        "    # Calculate and store classification reports\n",
        "    report_euclidean = classification_report(y_test, y_pred_euclidean)\n",
        "    report_manhattan = classification_report(y_test, y_pred_manhattan)\n",
        "\n",
        "    reports_euclidean.append((k, report_euclidean))\n",
        "    reports_manhattan.append((k, report_manhattan))\n",
        "\n",
        "# Print classification reports for k=3 with both distance metrics\n",
        "k_for_comparison = 3\n",
        "print(f\"Classification Report for k={k_for_comparison} (Euclidean Distance):\\n{reports_euclidean[k_for_comparison-1][1]}\")\n",
        "print(f\"Classification Report for k={k_for_comparison} (Manhattan Distance):\\n{reports_manhattan[k_for_comparison-1][1]}\")\n"
      ],
      "metadata": {
        "colab": {
          "base_uri": "https://localhost:8080/"
        },
        "id": "kSPLMLMu_dER",
        "outputId": "494ca28c-0c35-4b67-d4c7-5952096c3b4b"
      },
      "execution_count": 12,
      "outputs": [
        {
          "output_type": "stream",
          "name": "stdout",
          "text": [
            "Classification Report for k=3 (Euclidean Distance):\n",
            "              precision    recall  f1-score   support\n",
            "\n",
            "           1       0.58      0.79      0.67        19\n",
            "           2       0.58      0.61      0.60        23\n",
            "           3       0.00      0.00      0.00         4\n",
            "           5       1.00      0.33      0.50         6\n",
            "           6       0.60      1.00      0.75         3\n",
            "           7       1.00      0.80      0.89        10\n",
            "\n",
            "    accuracy                           0.65        65\n",
            "   macro avg       0.63      0.59      0.57        65\n",
            "weighted avg       0.65      0.65      0.62        65\n",
            "\n",
            "Classification Report for k=3 (Manhattan Distance):\n",
            "              precision    recall  f1-score   support\n",
            "\n",
            "           1       0.60      0.79      0.68        19\n",
            "           2       0.61      0.61      0.61        23\n",
            "           3       0.50      0.25      0.33         4\n",
            "           5       1.00      0.33      0.50         6\n",
            "           6       0.75      1.00      0.86         3\n",
            "           7       1.00      0.90      0.95        10\n",
            "\n",
            "    accuracy                           0.68        65\n",
            "   macro avg       0.74      0.65      0.65        65\n",
            "weighted avg       0.70      0.68      0.67        65\n",
            "\n"
          ]
        }
      ]
    },
    {
      "cell_type": "markdown",
      "source": [
        "**Interpretation:**\n",
        "\n",
        "- Comparing the two distance metrics, the Manhattan distance metric (for k=3) generally results in higher precision, recall, and F1-scores across most classes compared to Euclidean distance.\n",
        "- Manhattan distance is less sensitive to outliers, which may explain its improved performance in this case.\n",
        "- The F1-scores for class 3 (Vehicle Windows Float Processed) remain low for both metrics, indicating difficulty in classifying this particular class.\n",
        "- The choice of distance metric can significantly affect the k-NN classifier's performance, and it's essential to experiment with different metrics based on the dataset characteristics.\n",
        "\n",
        "This comparison illustrates the importance of selecting an appropriate distance metric based on the specific nature of your dataset and problem."
      ],
      "metadata": {
        "id": "176aga73Hcxd"
      }
    },
    {
      "cell_type": "markdown",
      "source": [
        "### Thank you and good luck!"
      ],
      "metadata": {
        "id": "PGhKZqjq2Hje"
      }
    }
  ]
}