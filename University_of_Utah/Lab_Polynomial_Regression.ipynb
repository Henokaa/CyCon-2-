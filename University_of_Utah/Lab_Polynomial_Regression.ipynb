{
  "nbformat": 4,
  "nbformat_minor": 0,
  "metadata": {
    "colab": {
      "provenance": []
    },
    "kernelspec": {
      "name": "python3",
      "display_name": "Python 3"
    },
    "language_info": {
      "name": "python"
    }
  },
  "cells": [
    {
      "cell_type": "markdown",
      "source": [
        "<center> <a href=\"https://github.com/CyConProject?tab=repositories\">\n",
        "  <img src=\"https://github.com/CyConProject/Lab/blob/main/Figures/CyCon.png?raw=true\" alt=\"logo\" width=\"80\" >\n",
        "</a>\n",
        " </center>\n",
        "\n",
        "# Polynomial Regression\n",
        "\n",
        "In this lab, we will delve into the concept of polynomial regression and its application in data analysis. Polynomial regression is a statistical technique that allows us to model the relationship between a dependent variable and  independent variables using polynomial functions. By understanding polynomial regression, we can effectively analyze and predict complex relationships between variables.\n",
        "\n",
        "### Objectives:\n",
        "\n",
        "After completing this lab, you will be able to:\n",
        "\n",
        "- Understand the concept of polynomial regression and its advantages over linear regression.\n",
        "- Implement polynomial regression using scikit-learn.\n",
        "- Build a polynomial regression model with a single independent variable.\n",
        "- Extend polynomial regression to multiple independent variables.\n",
        "- Train the polynomial regression model on a dataset.\n",
        "- Evaluate the performance of the polynomial regression model using evaluation metrics such as mean squared error (MSE) and coefficient of determination (R-squared).\n",
        "\n",
        "By mastering these concepts and techniques, you will gain valuable skills in implementing and utilizing polynomial regression models for data analysis and prediction. This knowledge can be applied in various domains such as finance, economics, and engineering, where complex relationships between variables need to be modeled accurately."
      ],
      "metadata": {
        "id": "xHhCzHjhROUo"
      }
    },
    {
      "cell_type": "markdown",
      "source": [
        "### Step 1: Import necessary libraries"
      ],
      "metadata": {
        "id": "7xctvYa3RjPC"
      }
    },
    {
      "cell_type": "code",
      "execution_count": 1,
      "metadata": {
        "id": "RMPLOsTiRCoB"
      },
      "outputs": [],
      "source": [
        "import pandas as pd\n",
        "import numpy as np\n",
        "import matplotlib.pyplot as plt"
      ]
    },
    {
      "cell_type": "markdown",
      "source": [
        "### Step 2: Load the construction dataset"
      ],
      "metadata": {
        "id": "Fo1Kl6_GUs-B"
      }
    },
    {
      "cell_type": "code",
      "source": [
        "# Load the dataset\n",
        "url = 'https://raw.githubusercontent.com/CyConProject/Lab/main/Datasets/Concrete_Data.csv'\n",
        "df = pd.read_csv(url)"
      ],
      "metadata": {
        "id": "RuWdT0RyUrDG"
      },
      "execution_count": 2,
      "outputs": []
    },
    {
      "cell_type": "markdown",
      "source": [
        "### Step 3: Explore the dataset"
      ],
      "metadata": {
        "id": "ho_tggedU286"
      }
    },
    {
      "cell_type": "code",
      "source": [
        "# Display the first few rows of the dataset\n",
        "df.head()"
      ],
      "metadata": {
        "colab": {
          "base_uri": "https://localhost:8080/",
          "height": 206
        },
        "id": "4wH5X584U3ot",
        "outputId": "70bb2640-c4ce-4102-bb8d-fab448d17464"
      },
      "execution_count": 3,
      "outputs": [
        {
          "output_type": "execute_result",
          "data": {
            "text/plain": [
              "   cement   slag  flyash  water  superplasticizer  coarseaggregate  \\\n",
              "0   540.0    0.0     0.0  162.0               2.5           1040.0   \n",
              "1   540.0    0.0     0.0  162.0               2.5           1055.0   \n",
              "2   332.5  142.5     0.0  228.0               0.0            932.0   \n",
              "3   332.5  142.5     0.0  228.0               0.0            932.0   \n",
              "4   198.6  132.4     0.0  192.0               0.0            978.4   \n",
              "\n",
              "   fineaggregate  age  csMPa  \n",
              "0          676.0   28  79.99  \n",
              "1          676.0   28  61.89  \n",
              "2          594.0  270  40.27  \n",
              "3          594.0  365  41.05  \n",
              "4          825.5  360  44.30  "
            ],
            "text/html": [
              "\n",
              "\n",
              "  <div id=\"df-1588bdf8-15fe-4177-a546-988280a1682c\">\n",
              "    <div class=\"colab-df-container\">\n",
              "      <div>\n",
              "<style scoped>\n",
              "    .dataframe tbody tr th:only-of-type {\n",
              "        vertical-align: middle;\n",
              "    }\n",
              "\n",
              "    .dataframe tbody tr th {\n",
              "        vertical-align: top;\n",
              "    }\n",
              "\n",
              "    .dataframe thead th {\n",
              "        text-align: right;\n",
              "    }\n",
              "</style>\n",
              "<table border=\"1\" class=\"dataframe\">\n",
              "  <thead>\n",
              "    <tr style=\"text-align: right;\">\n",
              "      <th></th>\n",
              "      <th>cement</th>\n",
              "      <th>slag</th>\n",
              "      <th>flyash</th>\n",
              "      <th>water</th>\n",
              "      <th>superplasticizer</th>\n",
              "      <th>coarseaggregate</th>\n",
              "      <th>fineaggregate</th>\n",
              "      <th>age</th>\n",
              "      <th>csMPa</th>\n",
              "    </tr>\n",
              "  </thead>\n",
              "  <tbody>\n",
              "    <tr>\n",
              "      <th>0</th>\n",
              "      <td>540.0</td>\n",
              "      <td>0.0</td>\n",
              "      <td>0.0</td>\n",
              "      <td>162.0</td>\n",
              "      <td>2.5</td>\n",
              "      <td>1040.0</td>\n",
              "      <td>676.0</td>\n",
              "      <td>28</td>\n",
              "      <td>79.99</td>\n",
              "    </tr>\n",
              "    <tr>\n",
              "      <th>1</th>\n",
              "      <td>540.0</td>\n",
              "      <td>0.0</td>\n",
              "      <td>0.0</td>\n",
              "      <td>162.0</td>\n",
              "      <td>2.5</td>\n",
              "      <td>1055.0</td>\n",
              "      <td>676.0</td>\n",
              "      <td>28</td>\n",
              "      <td>61.89</td>\n",
              "    </tr>\n",
              "    <tr>\n",
              "      <th>2</th>\n",
              "      <td>332.5</td>\n",
              "      <td>142.5</td>\n",
              "      <td>0.0</td>\n",
              "      <td>228.0</td>\n",
              "      <td>0.0</td>\n",
              "      <td>932.0</td>\n",
              "      <td>594.0</td>\n",
              "      <td>270</td>\n",
              "      <td>40.27</td>\n",
              "    </tr>\n",
              "    <tr>\n",
              "      <th>3</th>\n",
              "      <td>332.5</td>\n",
              "      <td>142.5</td>\n",
              "      <td>0.0</td>\n",
              "      <td>228.0</td>\n",
              "      <td>0.0</td>\n",
              "      <td>932.0</td>\n",
              "      <td>594.0</td>\n",
              "      <td>365</td>\n",
              "      <td>41.05</td>\n",
              "    </tr>\n",
              "    <tr>\n",
              "      <th>4</th>\n",
              "      <td>198.6</td>\n",
              "      <td>132.4</td>\n",
              "      <td>0.0</td>\n",
              "      <td>192.0</td>\n",
              "      <td>0.0</td>\n",
              "      <td>978.4</td>\n",
              "      <td>825.5</td>\n",
              "      <td>360</td>\n",
              "      <td>44.30</td>\n",
              "    </tr>\n",
              "  </tbody>\n",
              "</table>\n",
              "</div>\n",
              "      <button class=\"colab-df-convert\" onclick=\"convertToInteractive('df-1588bdf8-15fe-4177-a546-988280a1682c')\"\n",
              "              title=\"Convert this dataframe to an interactive table.\"\n",
              "              style=\"display:none;\">\n",
              "\n",
              "  <svg xmlns=\"http://www.w3.org/2000/svg\" height=\"24px\"viewBox=\"0 0 24 24\"\n",
              "       width=\"24px\">\n",
              "    <path d=\"M0 0h24v24H0V0z\" fill=\"none\"/>\n",
              "    <path d=\"M18.56 5.44l.94 2.06.94-2.06 2.06-.94-2.06-.94-.94-2.06-.94 2.06-2.06.94zm-11 1L8.5 8.5l.94-2.06 2.06-.94-2.06-.94L8.5 2.5l-.94 2.06-2.06.94zm10 10l.94 2.06.94-2.06 2.06-.94-2.06-.94-.94-2.06-.94 2.06-2.06.94z\"/><path d=\"M17.41 7.96l-1.37-1.37c-.4-.4-.92-.59-1.43-.59-.52 0-1.04.2-1.43.59L10.3 9.45l-7.72 7.72c-.78.78-.78 2.05 0 2.83L4 21.41c.39.39.9.59 1.41.59.51 0 1.02-.2 1.41-.59l7.78-7.78 2.81-2.81c.8-.78.8-2.07 0-2.86zM5.41 20L4 18.59l7.72-7.72 1.47 1.35L5.41 20z\"/>\n",
              "  </svg>\n",
              "      </button>\n",
              "\n",
              "\n",
              "\n",
              "    <div id=\"df-95819e43-e665-409b-964a-a8ddf8dae569\">\n",
              "      <button class=\"colab-df-quickchart\" onclick=\"quickchart('df-95819e43-e665-409b-964a-a8ddf8dae569')\"\n",
              "              title=\"Suggest charts.\"\n",
              "              style=\"display:none;\">\n",
              "\n",
              "<svg xmlns=\"http://www.w3.org/2000/svg\" height=\"24px\"viewBox=\"0 0 24 24\"\n",
              "     width=\"24px\">\n",
              "    <g>\n",
              "        <path d=\"M19 3H5c-1.1 0-2 .9-2 2v14c0 1.1.9 2 2 2h14c1.1 0 2-.9 2-2V5c0-1.1-.9-2-2-2zM9 17H7v-7h2v7zm4 0h-2V7h2v10zm4 0h-2v-4h2v4z\"/>\n",
              "    </g>\n",
              "</svg>\n",
              "      </button>\n",
              "    </div>\n",
              "\n",
              "<style>\n",
              "  .colab-df-quickchart {\n",
              "    background-color: #E8F0FE;\n",
              "    border: none;\n",
              "    border-radius: 50%;\n",
              "    cursor: pointer;\n",
              "    display: none;\n",
              "    fill: #1967D2;\n",
              "    height: 32px;\n",
              "    padding: 0 0 0 0;\n",
              "    width: 32px;\n",
              "  }\n",
              "\n",
              "  .colab-df-quickchart:hover {\n",
              "    background-color: #E2EBFA;\n",
              "    box-shadow: 0px 1px 2px rgba(60, 64, 67, 0.3), 0px 1px 3px 1px rgba(60, 64, 67, 0.15);\n",
              "    fill: #174EA6;\n",
              "  }\n",
              "\n",
              "  [theme=dark] .colab-df-quickchart {\n",
              "    background-color: #3B4455;\n",
              "    fill: #D2E3FC;\n",
              "  }\n",
              "\n",
              "  [theme=dark] .colab-df-quickchart:hover {\n",
              "    background-color: #434B5C;\n",
              "    box-shadow: 0px 1px 3px 1px rgba(0, 0, 0, 0.15);\n",
              "    filter: drop-shadow(0px 1px 2px rgba(0, 0, 0, 0.3));\n",
              "    fill: #FFFFFF;\n",
              "  }\n",
              "</style>\n",
              "\n",
              "    <script>\n",
              "      async function quickchart(key) {\n",
              "        const containerElement = document.querySelector('#' + key);\n",
              "        const charts = await google.colab.kernel.invokeFunction(\n",
              "            'suggestCharts', [key], {});\n",
              "      }\n",
              "    </script>\n",
              "\n",
              "      <script>\n",
              "\n",
              "function displayQuickchartButton(domScope) {\n",
              "  let quickchartButtonEl =\n",
              "    domScope.querySelector('#df-95819e43-e665-409b-964a-a8ddf8dae569 button.colab-df-quickchart');\n",
              "  quickchartButtonEl.style.display =\n",
              "    google.colab.kernel.accessAllowed ? 'block' : 'none';\n",
              "}\n",
              "\n",
              "        displayQuickchartButton(document);\n",
              "      </script>\n",
              "      <style>\n",
              "    .colab-df-container {\n",
              "      display:flex;\n",
              "      flex-wrap:wrap;\n",
              "      gap: 12px;\n",
              "    }\n",
              "\n",
              "    .colab-df-convert {\n",
              "      background-color: #E8F0FE;\n",
              "      border: none;\n",
              "      border-radius: 50%;\n",
              "      cursor: pointer;\n",
              "      display: none;\n",
              "      fill: #1967D2;\n",
              "      height: 32px;\n",
              "      padding: 0 0 0 0;\n",
              "      width: 32px;\n",
              "    }\n",
              "\n",
              "    .colab-df-convert:hover {\n",
              "      background-color: #E2EBFA;\n",
              "      box-shadow: 0px 1px 2px rgba(60, 64, 67, 0.3), 0px 1px 3px 1px rgba(60, 64, 67, 0.15);\n",
              "      fill: #174EA6;\n",
              "    }\n",
              "\n",
              "    [theme=dark] .colab-df-convert {\n",
              "      background-color: #3B4455;\n",
              "      fill: #D2E3FC;\n",
              "    }\n",
              "\n",
              "    [theme=dark] .colab-df-convert:hover {\n",
              "      background-color: #434B5C;\n",
              "      box-shadow: 0px 1px 3px 1px rgba(0, 0, 0, 0.15);\n",
              "      filter: drop-shadow(0px 1px 2px rgba(0, 0, 0, 0.3));\n",
              "      fill: #FFFFFF;\n",
              "    }\n",
              "  </style>\n",
              "\n",
              "      <script>\n",
              "        const buttonEl =\n",
              "          document.querySelector('#df-1588bdf8-15fe-4177-a546-988280a1682c button.colab-df-convert');\n",
              "        buttonEl.style.display =\n",
              "          google.colab.kernel.accessAllowed ? 'block' : 'none';\n",
              "\n",
              "        async function convertToInteractive(key) {\n",
              "          const element = document.querySelector('#df-1588bdf8-15fe-4177-a546-988280a1682c');\n",
              "          const dataTable =\n",
              "            await google.colab.kernel.invokeFunction('convertToInteractive',\n",
              "                                                     [key], {});\n",
              "          if (!dataTable) return;\n",
              "\n",
              "          const docLinkHtml = 'Like what you see? Visit the ' +\n",
              "            '<a target=\"_blank\" href=https://colab.research.google.com/notebooks/data_table.ipynb>data table notebook</a>'\n",
              "            + ' to learn more about interactive tables.';\n",
              "          element.innerHTML = '';\n",
              "          dataTable['output_type'] = 'display_data';\n",
              "          await google.colab.output.renderOutput(dataTable, element);\n",
              "          const docLink = document.createElement('div');\n",
              "          docLink.innerHTML = docLinkHtml;\n",
              "          element.appendChild(docLink);\n",
              "        }\n",
              "      </script>\n",
              "    </div>\n",
              "  </div>\n"
            ]
          },
          "metadata": {},
          "execution_count": 3
        }
      ]
    },
    {
      "cell_type": "markdown",
      "source": [
        "#### `Concrete_Data.csv`:\n",
        "\n",
        "The regression problem focuses on predicting the concrete compressive strength using its components as well as its age. The variables are listed in the same order as the numerical values in the database rows.\n",
        "\n",
        "    Name -- Data Type -- Measurement -- Description\n",
        "1.   **Cement** -- quantitative -- kg in a m3 mixture -- Input Variable\n",
        "2.   **Blast Furnace Slag** -- quantitative -- kg in a m3 mixture -- Input Variable\n",
        "3.   **Fly Ash** -- quantitative -- kg in a m3 mixture -- Input Variable\n",
        "4.   **Water** -- quantitative -- kg in a m3 mixture -- Input Variable\n",
        "5.   **Superplasticizer** -- quantitative -- kg in a m3 mixture -- Input Variable\n",
        "6.   **Coarse Aggregate** -- quantitative -- kg in a m3 mixture -- Input Variable\n",
        "7.   **Fine Aggregate** -- quantitative -- kg in a m3 mixture -- Input Variable\n",
        "8.   **Age** -- quantitative -- Day (1~365) -- Input Variable\n",
        "9.   **Concrete compressive strength** -- quantitative -- MPa -- Output Variable\n",
        "\n",
        "\n",
        "[`Data source`](https://archive.ics.uci.edu/dataset/165/concrete+compressive+strength)"
      ],
      "metadata": {
        "id": "Bs2SQ2MyU9bl"
      }
    },
    {
      "cell_type": "markdown",
      "source": [
        "Now, let's visulalize Compressive Strength with respect to Water."
      ],
      "metadata": {
        "id": "AwpPyloaU-tM"
      }
    },
    {
      "cell_type": "code",
      "source": [
        "plt.figure(figsize=(5, 4))\n",
        "plt.scatter(df.age, df.csMPa)\n",
        "plt.xlabel(\"Water\")\n",
        "plt.ylabel(\"Compressive Strength\")\n",
        "plt.show()"
      ],
      "metadata": {
        "colab": {
          "base_uri": "https://localhost:8080/",
          "height": 388
        },
        "id": "dlnJSvfbVQsD",
        "outputId": "f687e62e-3464-45e7-90d3-e0edb3e52852"
      },
      "execution_count": 4,
      "outputs": [
        {
          "output_type": "display_data",
          "data": {
            "text/plain": [
              "<Figure size 500x400 with 1 Axes>"
            ],
            "image/png": "[encoded data removed]"
          },
          "metadata": {}
        }
      ]
    },
    {
      "cell_type": "markdown",
      "source": [
        "### Step 4: Create train and test datasets\n",
        "In this section, we first assign the input features to X and the target variable to y. Next, we split the data into train and test sets using train_test_split from sklearn.model_selection.\n",
        "\n",
        "You can always adjust the test_size parameter as per your preference. In this code, we set `test_size=0.2`. Therefore, 20% of the data would be saved as the test dataset."
      ],
      "metadata": {
        "id": "A14qxjbVWcm0"
      }
    },
    {
      "cell_type": "code",
      "source": [
        "from sklearn.model_selection import train_test_split\n",
        "\n",
        "# Split the dataset into input features (X) and target variable (y)\n",
        "X = df.drop('csMPa', axis=1)\n",
        "y = df['csMPa']\n",
        "\n",
        "# Split the data into train and test sets\n",
        "X_train, X_test, y_train, y_test = train_test_split(X, y, test_size=0.2, random_state=42)"
      ],
      "metadata": {
        "id": "jFq9UskDVyhi"
      },
      "execution_count": 5,
      "outputs": []
    },
    {
      "cell_type": "markdown",
      "source": [
        "### Step 5: Training the model\n",
        "\n",
        "Today, we'll explore polynomial regression, an extension of linear regression used to model nonlinear relationships between variables. While linear regression assumes a straight-line relationship, polynomial regression fits a curve to the data points.\n",
        "\n",
        "Polynomial regression uses a polynomial equation of this form:\n",
        "\n",
        "$$ y = β₀ + β₁x + β₂x² + ... + βₙxⁿ $$\n",
        "\n",
        "\n",
        "where 'y' is the dependent variable, 'x' is the independent variable, and β₀, β₁, β₂, ..., βₙ are the coefficients. The degree 'n' determines the complexity of the curve. We estimate the coefficients by minimizing the difference between predicted and actual values using least squares.\n",
        "\n",
        "But, how can we fit our data into this equation when we only have the values of 'x'?\n",
        "\n",
        "To accomplish this, we can utilize the `PolynomialFeatures()` function from the Scikit-learn library. This function allows us to generate **a new set of features** derived from the original feature set:\n",
        "$$[1, x, x², ..., xⁿ]$$\n",
        "\n",
        "In other words, it creates a matrix containing all possible polynomial combinations of the features, where the degree of each combination is **less than or equal to** the specified degree.\n",
        "\n",
        "For instance, let's consider a scenario where the original feature set consists of two features: x₁ and x₂. If we choose a polynomial degree of 2, the `PolynomialFeatures()` function will generate 5 features:\n",
        "\n",
        "$$[1, x₁, x₂, x₁², x₁x₂, x₂²]$$"
      ],
      "metadata": {
        "id": "Va86LPboWmcF"
      }
    },
    {
      "cell_type": "markdown",
      "source": [
        "Now, let's train a polynomial regression model as well as a simple linear regression model on `X_train[['age']]` and `y_train` data to see how this new model can change the game when data does not follow a linear trend.\n",
        "\n"
      ],
      "metadata": {
        "id": "kg8VPSbHiS39"
      }
    },
    {
      "cell_type": "markdown",
      "source": [
        "First, let's train the polynomial regresion model."
      ],
      "metadata": {
        "id": "7k4-tLeHkny9"
      }
    },
    {
      "cell_type": "code",
      "source": [
        "from sklearn.preprocessing import PolynomialFeatures\n",
        "# Importing the PolynomialFeatures class from the sklearn.preprocessing module.\n",
        "Polynomial = PolynomialFeatures(degree=4)\n",
        "\n",
        "# Creating an instance of the PolynomialFeatures class with degree 4.\n",
        "# This class generates polynomial features up to the specified degree.\n",
        "X_train_Polynomial = Polynomial.fit_transform(X_train[['age']])\n",
        "\n",
        "# Applying the fit_transform method of the PolynomialFeatures instance to the 'age' column of the X_train dataset.\n",
        "# This method transforms the input feature matrix X_train[['age']] into a new matrix with polynomial features.\n",
        "# The new matrix contains all polynomial combinations of the 'age' feature up to degree 4.\n",
        "X_train_Polynomial"
      ],
      "metadata": {
        "colab": {
          "base_uri": "https://localhost:8080/"
        },
        "id": "LL1J6F-qkyKI",
        "outputId": "d8b9eba9-8a1c-4ce5-acaa-91bf5e8acf0a"
      },
      "execution_count": 6,
      "outputs": [
        {
          "output_type": "execute_result",
          "data": {
            "text/plain": [
              "array([[1.00000e+00, 2.80000e+01, 7.84000e+02, 2.19520e+04, 6.14656e+05],\n",
              "       [1.00000e+00, 2.80000e+01, 7.84000e+02, 2.19520e+04, 6.14656e+05],\n",
              "       [1.00000e+00, 3.00000e+00, 9.00000e+00, 2.70000e+01, 8.10000e+01],\n",
              "       ...,\n",
              "       [1.00000e+00, 1.00000e+02, 1.00000e+04, 1.00000e+06, 1.00000e+08],\n",
              "       [1.00000e+00, 2.80000e+01, 7.84000e+02, 2.19520e+04, 6.14656e+05],\n",
              "       [1.00000e+00, 2.80000e+01, 7.84000e+02, 2.19520e+04, 6.14656e+05]])"
            ]
          },
          "metadata": {},
          "execution_count": 6
        }
      ]
    },
    {
      "cell_type": "markdown",
      "source": [
        "The `fit_transform` method of the `PolynomialFeatures` instance is applied to the `'age'` column of the `X_train` dataset. This method transforms the input feature matrix into a new matrix containing all polynomial combinations of the 'age' feature **up to degree 4** (as we set it to be degree=4). The result is stored in the variable `X_train_Polynomial`, which will be used in the code for training our regression model.\n",
        "\n",
        "Here is how the fit_transform method works:\n",
        "\n",
        "\n",
        "$$\n",
        "\\begin{bmatrix}\n",
        "    x_1\\\\\n",
        "    x_2\\\\\n",
        "    \\vdots\\\\\n",
        "    x_n\n",
        "\\end{bmatrix}\n",
        "\\longrightarrow\n",
        "\\begin{bmatrix}\n",
        "    [ 1 & x_1 & x_1^2 & x_1^3 & x_1^4]\\\\\n",
        "    [ 1 & x_2 & x_2^2 & x_2^3 & x_2^4]\\\\\n",
        "    \\vdots & \\vdots & \\vdots & \\vdots & \\vdots\\\\\n",
        "    [ 1 & x_n & x_n^2 & x_n^3 & x_n^4]\n",
        "\\end{bmatrix}\n",
        "$$\n",
        "\n",
        "\\\\\n",
        "\n",
        "$$\n",
        "\\begin{bmatrix}\n",
        "    28\\\\\n",
        "    28\\\\\n",
        "    30\\\\\n",
        "    \\vdots\n",
        "\\end{bmatrix}\n",
        "\\longrightarrow\n",
        "\\begin{bmatrix}\n",
        "    [ 1 & 28 & 28^2 & 28^3 & 28^4]\\\\\n",
        "    [ 1 & 28 & 784 & 21,952 & 614,656]\\\\\n",
        "    [ 1 & 3 & 9 & 27 & 81]\\\\\n",
        "    \\vdots & \\vdots & \\vdots & \\vdots & \\vdots\n",
        "\\end{bmatrix}\n",
        "$$\n",
        "\n",
        "\\\\\n",
        "\n",
        "Once the polynomial features are generated, we can treat the problem as a linear regression task. Polynomial regression is essentially a special case of multiple linear regression, where the original features are replaced with polynomial terms. The equation for polynomial regression becomes:\n",
        "\n",
        "$$ y = b + θ_1x_1 + θ_2x_2 + θ_3x_3 +θ_4x_4  $$\n",
        "\n",
        "Here, 'b' represents the intercept term, and θ1, θ2, etc., represent the coefficients for the corresponding polynomial features.\n",
        "\n",
        "To train a polynomial regression model, we can use the `LinearRegression()` function from scikit-learn. This function is suitable for handling both traditional linear regression and polynomial regression tasks. By fitting the linear regression model to the polynomial features, we can obtain the coefficients that best fit the data and make predictions based on the polynomial regression equation.\n",
        "\n"
      ],
      "metadata": {
        "id": "TE5J4M9nn5vA"
      }
    },
    {
      "cell_type": "code",
      "source": [
        "from sklearn.linear_model import LinearRegression\n",
        "# Create an instance of the LinearRegression model\n",
        "PolyModel = LinearRegression()\n",
        "# Fit the model using the polynomial features (X_train_Polynomial) and the target variable (y_train)\n",
        "PolyModel.fit(X_train_Polynomial, y_train)\n",
        "# Print the coefficients and the intercept (bias) term of the polynomial regression model\n",
        "print ('Coefficients: ', PolyModel.coef_)\n",
        "print ('Intercept: ',PolyModel.intercept_)"
      ],
      "metadata": {
        "colab": {
          "base_uri": "https://localhost:8080/"
        },
        "id": "lCs2L8wfllO4",
        "outputId": "94a2634f-0e4b-4c7b-c60d-81b067cb7f3d"
      },
      "execution_count": 7,
      "outputs": [
        {
          "output_type": "stream",
          "name": "stdout",
          "text": [
            "Coefficients:  [ 0.00000000e+00  1.04439841e+00 -1.08424947e-02  4.21987457e-05\n",
            " -5.42665206e-08]\n",
            "Intercept:  16.308401807687495\n"
          ]
        }
      ]
    },
    {
      "cell_type": "markdown",
      "source": [
        "The coefficients and intercept represent the parameters that define the curvy regression line. This is like a multiple linear regression model with these 5 parameters:\n",
        "$$ [ 1 , x , x^2 , x^3 , x^4] $$"
      ],
      "metadata": {
        "id": "MjjyyzkZwP0Q"
      }
    },
    {
      "cell_type": "markdown",
      "source": [
        "### Step 6: Evaluation of the model"
      ],
      "metadata": {
        "id": "gJiKu10Q4T2J"
      }
    },
    {
      "cell_type": "code",
      "source": [
        "from sklearn.metrics import r2_score\n",
        "X_test_Polynomial = Polynomial.fit_transform(X_test[['age']])\n",
        "# Predict on the test data\n",
        "y_pred = PolyModel.predict(X_test_Polynomial)\n",
        "\n",
        "# Calculate Mean Absolute Error (MAE)\n",
        "mae = np.mean(np.absolute(y_test - y_pred))\n",
        "\n",
        "# Calculate Mean Squared Error (MSE)\n",
        "mse = np.mean((y_test - y_pred) ** 2)\n",
        "\n",
        "# Calculate R-squared (R2) score\n",
        "r2 = r2_score(y_test, y_pred)\n",
        "\n",
        "print('Mean Absolute Error (MAE) of the polynomial linear regression model:', mae)\n",
        "print('Mean Squared Error (MSE) of the polynomial linear regression model:', mse)\n",
        "print('R-squared (R2) score of the polynomial linear regression model:', r2)"
      ],
      "metadata": {
        "colab": {
          "base_uri": "https://localhost:8080/"
        },
        "id": "ZPAd6gfr4TN-",
        "outputId": "f2e79b30-6547-4596-d43d-11388bfea056"
      },
      "execution_count": 8,
      "outputs": [
        {
          "output_type": "stream",
          "name": "stdout",
          "text": [
            "Mean Absolute Error (MAE) of the polynomial linear regression model: 10.770635441478891\n",
            "Mean Squared Error (MSE) of the polynomial linear regression model: 173.4308085706095\n",
            "R-squared (R2) score of the polynomial linear regression model: 0.32694466456078775\n"
          ]
        }
      ]
    },
    {
      "cell_type": "markdown",
      "source": [
        "### Step 7: Comparing the model with simple linear regression\n",
        "Now, let's do the simple linear regression as we learned before. Then compare the results with the polynomial model."
      ],
      "metadata": {
        "id": "ZAtlhDvSl0zn"
      }
    },
    {
      "cell_type": "code",
      "source": [
        "# Create a linear regression model\n",
        "SimpleModel = LinearRegression()\n",
        "\n",
        "# Fit the model to the training data\n",
        "SimpleModel.fit(X_train[['age']], y_train)\n",
        "\n",
        "print ('Coefficients: ', SimpleModel.coef_)\n",
        "print ('Intercept: ',SimpleModel.intercept_)\n",
        "\n",
        "# Predict on the test data\n",
        "y_predSimple = SimpleModel.predict(X_test[['age']])\n",
        "\n",
        "# Calculate Mean Absolute Error (MAE)\n",
        "mae_simple = np.mean(np.absolute(y_test - y_predSimple))\n",
        "\n",
        "# Calculate Mean Squared Error (MSE)\n",
        "mse_simple = np.mean((y_test - y_predSimple) ** 2)\n",
        "\n",
        "# Calculate R-squared (R2) score\n",
        "r2_simple = r2_score(y_test, y_predSimple)\n",
        "\n",
        "print('Mean Absolute Error (MAE) of the simple linear regression model:', mae_simple)\n",
        "print('Mean Squared Error (MSE) of the simple linear regression model:', mse_simple)\n",
        "print('R-squared (R2) score of the simple linear regression model:', r2_simple)"
      ],
      "metadata": {
        "id": "uOZeXgQaWmuw",
        "colab": {
          "base_uri": "https://localhost:8080/"
        },
        "outputId": "09824269-a6c0-44c4-af4d-443e6e640032"
      },
      "execution_count": 9,
      "outputs": [
        {
          "output_type": "stream",
          "name": "stdout",
          "text": [
            "Coefficients:  [0.0926068]\n",
            "Intercept:  31.721913941179384\n",
            "Mean Absolute Error (MAE) of the simple linear regression model: 12.506975026598786\n",
            "Mean Squared Error (MSE) of the simple linear regression model: 232.9603674627638\n",
            "R-squared (R2) score of the simple linear regression model: 0.09592061780155958\n"
          ]
        }
      ]
    },
    {
      "cell_type": "markdown",
      "source": [
        "###Result:\n",
        "The polynomial linear regression model outperforms the simple linear regression model in predicting concrete compressive strength based on age. It has lower MAE and MSE values, indicating more accurate predictions. Additionally, the polynomial model has a higher R2 score, suggesting a better fit and explaining a larger proportion of the variance in compressive strength. Therefore, the polynomial linear regression model is the preferred choice for **this prediction task**."
      ],
      "metadata": {
        "id": "UCzC25bD8XXA"
      }
    },
    {
      "cell_type": "markdown",
      "source": [
        "### Step 8: Plotting the models\n",
        "\n",
        "Now that we have the optimized coefficient and intercept values, we can use them to plot the final regression curve. The key steps will be:\n",
        "\n",
        "- Define an `x` array representing the range of predictor variable values\n",
        "- Plug the `x` values and estimated parameters into the polynomial equation to compute the associated `y_poly` values\n",
        "- Plot the `(x,y_poly)` points to visualize the final regression curve:\n",
        "$$ y_.poly = intercept+ coef[1]*x+ coef[2]*x^2+ coef[3]*x^3+ coef[4]*x^4 $$\n",
        "\n",
        "This process will demonstrate how we can leverage the sklearn library to fit a polynomial regression model on a given dataset in Python.\n",
        "\n",
        "Finally, we plot the simple linear regression to visualize how they work different in this case."
      ],
      "metadata": {
        "id": "_dxN57Iu6EoU"
      }
    },
    {
      "cell_type": "code",
      "source": [
        "# Define an array of x values within the desired range\n",
        "x = np.linspace(X_train[['age']].min(),X_train[['age']].max(), 100)\n",
        "\n",
        "# Compute the corresponding y values using the polynomial equation with the optimized coefficients and intercept\n",
        "y_poly = PolyModel.intercept_\n",
        "for i in range(1, len(PolyModel.coef_)):\n",
        "    y_poly += PolyModel.coef_[i] * np.power(x, i)\n",
        "\n",
        "# Compute the corresponding y values using the simple linear equation with the optimized coefficients and intercept\n",
        "y_simple = SimpleModel.intercept_ + SimpleModel.coef_[0] * x\n",
        "\n",
        "# Plot the original data points\n",
        "plt.scatter(X_train[['age']], y_train, color='blue', label='Actual Data')\n",
        "\n",
        "# Plot the regression curve from the polynomial regression\n",
        "plt.plot(x, y_poly, color='red', label='Polynomial Regression Curve')\n",
        "\n",
        "# Plot the regression line from the simple linear regression\n",
        "plt.plot(x, y_simple, color='green', label='Simple Linear Regression Line')\n",
        "\n",
        "# Set the labels and title of the plot\n",
        "plt.xlabel(\"Age\")\n",
        "plt.ylabel(\"Compressive Strength\")\n",
        "plt.title('Polynomial Regression and Simple linear Regression')\n",
        "\n",
        "# Show the legend\n",
        "plt.legend()\n",
        "\n",
        "# Display the plot\n",
        "plt.show()"
      ],
      "metadata": {
        "colab": {
          "base_uri": "https://localhost:8080/",
          "height": 472
        },
        "id": "Bs8LvPiTo8Zi",
        "outputId": "6db704d3-8a38-4c6a-bf69-883d4dac4a75"
      },
      "execution_count": 10,
      "outputs": [
        {
          "output_type": "display_data",
          "data": {
            "text/plain": [
              "<Figure size 640x480 with 1 Axes>"
            ],
            "image/png": "[encoded data removed]"
          },
          "metadata": {}
        }
      ]
    },
    {
      "cell_type": "markdown",
      "source": [
        "### **Conclusion**\n",
        "\n",
        "Upon plotting both models, it becomes evident that the polynomial linear regression model performs better in predicting the concrete compressive strength based on age.\n",
        "\n",
        "The plot illustrates that the polynomial model provides a better fit to the data compared to the simple linear model. It captures the nonlinear relationship between age and compressive strength more accurately, resulting in a curve that closely aligns with the actual data points. In contrast, the simple linear model's predictions tend to deviate more from the observed values, exhibiting a less precise fit.\n",
        "\n",
        "By considering the plot alongside the evaluation metrics previously mentioned, we can confidently conclude that the polynomial linear regression model is superior in capturing the complexities of the relationship between age and concrete compressive strength. Its ability to model nonlinear patterns enables it to make more accurate predictions, making it the preferred choice over the simple linear regression model for this particular dataset."
      ],
      "metadata": {
        "id": "eLXhOQihbWez"
      }
    },
    {
      "cell_type": "markdown",
      "source": [
        "## Practice\n",
        "\n",
        "Let's examine the evaluation metrics obtained when training a polynomial regression model  using ` X_train[['cement' ,'superplasticizer','age']] ` as the traning dataset. Set the degree to be 3:  `PolynomialFeatures(degree=3)`\n",
        "\n",
        " -  Does using three features (instead of using 'age' alone) help the accracy of the model?\n",
        "\n",
        "We trained a **multiple linear regression** model on the same training dataset in the las lab, and these are the results of the evaluation that model:\n",
        "\n",
        "$$Mean Squared Error (MSE):120.271\\\\\n",
        "R-squared (R2) score:0.533$$\n",
        "\n",
        " -  Does changing the degree of the model (from 1 in the multiple linear regression to 3 in this model) helps the accuracy of the model?\n",
        " -  Can you explain why we have this number of coefficients for the new model."
      ],
      "metadata": {
        "id": "TDf5BPlJb30f"
      }
    },
    {
      "cell_type": "code",
      "source": [
        "# Your Code Here"
      ],
      "metadata": {
        "id": "P-6sTGnadDBy"
      },
      "execution_count": 11,
      "outputs": []
    },
    {
      "cell_type": "markdown",
      "source": [
        "<details><summary>Click here for the answer</summary>\n",
        "\n",
        "```python    \n",
        "Polynomial = PolynomialFeatures(degree=3)\n",
        "X_train_Polynomial3 = Polynomial.fit_transform(X_train[['cement' ,'superplasticizer','age']])\n",
        "PolyModel3 = LinearRegression()\n",
        "PolyModel3.fit(X_train_Polynomial3, y_train)\n",
        "print ('Coefficients: ', PolyModel3.coef_)\n",
        "print ('Intercept: ',PolyModel3.intercept_)\n",
        "\n",
        "# Evaluate\n",
        "X_test_Polynomial3 = Polynomial.fit_transform(X_test[['cement' ,'superplasticizer','age']])\n",
        "y_pred3 = PolyModel3.predict(X_test_Polynomial3)\n",
        "mae_3 = np.mean(np.absolute(y_test - y_pred3))\n",
        "mse_3 = np.mean((y_test - y_pred3) ** 2)\n",
        "r2_3 = r2_score(y_test, y_pred3)\n",
        "print('Mean Absolute Error (MAE) of the polynomial linear regression model:', mae_3)\n",
        "print('Mean Squared Error (MSE) of the polynomial linear regression model:', mse_3)\n",
        "print('R-squared (R2) score of the polynomial linear regression model:', r2_3)\n",
        "```\n",
        "\n",
        "</details>"
      ],
      "metadata": {
        "id": "bCmfegFDcm9e"
      }
    },
    {
      "cell_type": "markdown",
      "source": [
        "### Thank you and good luck!"
      ],
      "metadata": {
        "id": "5hNL3KpcgQau"
      }
    }
  ]
}